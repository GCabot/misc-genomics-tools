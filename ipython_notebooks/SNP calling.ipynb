{
 "metadata": {
  "name": "",
  "signature": "sha256:1e182331c1245b7c669c9e36eb60a26ccfa31ea2fc29179275049e3408abbee0"
 },
 "nbformat": 3,
 "nbformat_minor": 0,
 "worksheets": [
  {
   "cells": [
    {
     "cell_type": "markdown",
     "metadata": {},
     "source": [
      "This is the start of a SNP calling tutorial!\n",
      "\n",
      "IPython notebook lets you mix documentation (like this), with commands that are run.\n",
      "\n",
      "OK, let's get started. First we need to get a reference database.\n",
      "\n",
      "The list of reference databases is available via the NCBI FTP site here:\n",
      "\n",
      "<ftp://ftp.ncbi.nlm.nih.gov/genomes/Bacteria>"
     ]
    },
    {
     "cell_type": "code",
     "collapsed": false,
     "input": [],
     "language": "python",
     "metadata": {},
     "outputs": []
    }
   ],
   "metadata": {}
  }
 ]
}