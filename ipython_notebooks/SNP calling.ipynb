{
 "metadata": {
  "name": "",
  "signature": "sha256:2488a9226451cb29fe48ac019260d11362a25511df743ae63f42a4fadedbfb75"
 },
 "nbformat": 3,
 "nbformat_minor": 0,
 "worksheets": [
  {
   "cells": [
    {
     "cell_type": "markdown",
     "metadata": {},
     "source": [
      "This is the start of a SNP calling tutorial!\n",
      "\n",
      "IPython notebook lets you mix documentation (like this), with commands that are run.\n",
      "\n",
      "OK, let's get started. First we need to get a reference database.\n",
      "\n",
      "The list of reference databases is available via the NCBI FTP site here:\n",
      "\n",
      "<ftp://ftp.ncbi.nlm.nih.gov/genomes/Bacteria>\n",
      "\n",
      "Let's choose Enterococcus faecium DO as the reference.\n",
      "\n",
      "<ftp://ftp.ncbi.nlm.nih.gov/genomes/Bacteria/Enterococcus_faecium_DO_uid55353/>\n",
      "\n",
      "The files ending in .fna are nucleotide genome files. Note there are 4 files ending in .fna, because this genome has a chromosome and 3 plasmids.\n",
      "\n",
      "First, let us download them all."
     ]
    },
    {
     "cell_type": "code",
     "collapsed": false,
     "input": [
      "!wget ftp://ftp.ncbi.nlm.nih.gov/genomes/Bacteria/Enterococcus_faecium_DO_uid55353/NC_017960.fna\n",
      "!wget ftp://ftp.ncbi.nlm.nih.gov/genomes/Bacteria/Enterococcus_faecium_DO_uid55353/NC_017961.fna\n",
      "!wget ftp://ftp.ncbi.nlm.nih.gov/genomes/Bacteria/Enterococcus_faecium_DO_uid55353/NC_017962.fna\n",
      "!wget ftp://ftp.ncbi.nlm.nih.gov/genomes/Bacteria/Enterococcus_faecium_DO_uid55353/NC_017963.fna"
     ],
     "language": "python",
     "metadata": {},
     "outputs": [
      {
       "output_type": "stream",
       "stream": "stdout",
       "text": [
        "--2014-07-10 08:54:10--  ftp://ftp.ncbi.nlm.nih.gov/genomes/Bacteria/Enterococcus_faecium_DO_uid55353/NC_017960.fna\r\n",
        "           => \u2018NC_017960.fna\u2019\r\n",
        "Resolving ftp.ncbi.nlm.nih.gov (ftp.ncbi.nlm.nih.gov)... "
       ]
      },
      {
       "output_type": "stream",
       "stream": "stdout",
       "text": [
        "130.14.250.7, 2607:f220:41e:250::11\r\n",
        "Connecting to ftp.ncbi.nlm.nih.gov (ftp.ncbi.nlm.nih.gov)|130.14.250.7|:21... "
       ]
      },
      {
       "output_type": "stream",
       "stream": "stdout",
       "text": [
        "connected.\r\n",
        "Logging in as anonymous ... "
       ]
      },
      {
       "output_type": "stream",
       "stream": "stdout",
       "text": [
        "Logged in!\r\n",
        "==> SYST ... "
       ]
      },
      {
       "output_type": "stream",
       "stream": "stdout",
       "text": [
        "done.    ==> PWD ... "
       ]
      },
      {
       "output_type": "stream",
       "stream": "stdout",
       "text": [
        "done.\r\n",
        "==> TYPE I ... "
       ]
      },
      {
       "output_type": "stream",
       "stream": "stdout",
       "text": [
        "done.  ==> CWD (1) /genomes/Bacteria/Enterococcus_faecium_DO_uid55353 ... "
       ]
      },
      {
       "output_type": "stream",
       "stream": "stdout",
       "text": [
        "done.\r\n",
        "==> SIZE NC_017960.fna ... "
       ]
      },
      {
       "output_type": "stream",
       "stream": "stdout",
       "text": [
        "2736765\r\n",
        "==> PASV ... "
       ]
      },
      {
       "output_type": "stream",
       "stream": "stdout",
       "text": [
        "done.    ==> RETR NC_017960.fna ... "
       ]
      },
      {
       "output_type": "stream",
       "stream": "stdout",
       "text": [
        "done.\r\n",
        "Length: 2736765 (2.6M) (unauthoritative)\r\n",
        "\r\n",
        "\r",
        " 0% [                                       ] 0           --.-K/s              "
       ]
      },
      {
       "output_type": "stream",
       "stream": "stdout",
       "text": [
        "\r",
        " 1% [                                       ] 44,888       163KB/s             "
       ]
      },
      {
       "output_type": "stream",
       "stream": "stdout",
       "text": [
        "\r",
        " 7% [=>                                     ] 204,168      374KB/s             "
       ]
      },
      {
       "output_type": "stream",
       "stream": "stdout",
       "text": [
        "\r",
        "21% [=======>                               ] 592,336      707KB/s             "
       ]
      },
      {
       "output_type": "stream",
       "stream": "stdout",
       "text": [
        "\r",
        "28% [==========>                            ] 791,664      644KB/s             "
       ]
      },
      {
       "output_type": "stream",
       "stream": "stdout",
       "text": [
        "\r",
        "39% [==============>                        ] 1,078,916    718KB/s             "
       ]
      },
      {
       "output_type": "stream",
       "stream": "stdout",
       "text": [
        "\r",
        "45% [================>                      ] 1,257,020    726KB/s             "
       ]
      },
      {
       "output_type": "stream",
       "stream": "stdout",
       "text": [
        "\r",
        "53% [===================>                   ] 1,452,500    739KB/s             "
       ]
      },
      {
       "output_type": "stream",
       "stream": "stdout",
       "text": [
        "\r",
        "57% [=====================>                 ] 1,575,580    722KB/s             "
       ]
      },
      {
       "output_type": "stream",
       "stream": "stdout",
       "text": [
        "\r",
        "64% [========================>              ] 1,763,820    732KB/s             "
       ]
      },
      {
       "output_type": "stream",
       "stream": "stdout",
       "text": [
        "\r",
        "70% [==========================>            ] 1,940,476    733KB/s             "
       ]
      },
      {
       "output_type": "stream",
       "stream": "stdout",
       "text": [
        "\r",
        "76% [=============================>         ] 2,105,548    737KB/s             "
       ]
      },
      {
       "output_type": "stream",
       "stream": "stdout",
       "text": [
        "\r",
        "84% [===============================>       ] 2,314,060    749KB/s  eta 1s     "
       ]
      },
      {
       "output_type": "stream",
       "stream": "stdout",
       "text": [
        "\r",
        "92% [==================================>    ] 2,525,468    759KB/s  eta 1s     "
       ]
      },
      {
       "output_type": "stream",
       "stream": "stdout",
       "text": [
        "\r",
        "95% [====================================>  ] 2,613,796    739KB/s  eta 1s     "
       ]
      },
      {
       "output_type": "stream",
       "stream": "stdout",
       "text": [
        "\r",
        "100%[======================================>] 2,736,765    733KB/s   in 3.6s   \r\n",
        "\r\n"
       ]
      },
      {
       "output_type": "stream",
       "stream": "stdout",
       "text": [
        "2014-07-10 08:54:16 (733 KB/s) - \u2018NC_017960.fna\u2019 saved [2736765]\r\n",
        "\r\n"
       ]
      },
      {
       "output_type": "stream",
       "stream": "stdout",
       "text": [
        "--2014-07-10 08:54:16--  ftp://ftp.ncbi.nlm.nih.gov/genomes/Bacteria/Enterococcus_faecium_DO_uid55353/NC_017961.fna\r\n",
        "           => \u2018NC_017961.fna\u2019\r\n",
        "Resolving ftp.ncbi.nlm.nih.gov (ftp.ncbi.nlm.nih.gov)... 130.14.250.7, 2607:f220:41e:250::11\r\n",
        "Connecting to ftp.ncbi.nlm.nih.gov (ftp.ncbi.nlm.nih.gov)|130.14.250.7|:21... "
       ]
      },
      {
       "output_type": "stream",
       "stream": "stdout",
       "text": [
        "connected.\r\n",
        "Logging in as anonymous ... "
       ]
      },
      {
       "output_type": "stream",
       "stream": "stdout",
       "text": [
        "Logged in!\r\n",
        "==> SYST ... "
       ]
      },
      {
       "output_type": "stream",
       "stream": "stdout",
       "text": [
        "done.    ==> PWD ... "
       ]
      },
      {
       "output_type": "stream",
       "stream": "stdout",
       "text": [
        "done.\r\n",
        "==> TYPE I ... "
       ]
      },
      {
       "output_type": "stream",
       "stream": "stdout",
       "text": [
        "done.  ==> CWD (1) /genomes/Bacteria/Enterococcus_faecium_DO_uid55353 ... "
       ]
      },
      {
       "output_type": "stream",
       "stream": "stdout",
       "text": [
        "done.\r\n",
        "==> SIZE NC_017961.fna ... "
       ]
      },
      {
       "output_type": "stream",
       "stream": "stdout",
       "text": [
        "36865\r\n",
        "==> PASV ... "
       ]
      },
      {
       "output_type": "stream",
       "stream": "stdout",
       "text": [
        "done.    ==> RETR NC_017961.fna ... "
       ]
      },
      {
       "output_type": "stream",
       "stream": "stdout",
       "text": [
        "done.\r\n",
        "Length: 36865 (36K) (unauthoritative)\r\n",
        "\r\n",
        "\r",
        " 0% [                                       ] 0           --.-K/s              "
       ]
      },
      {
       "output_type": "stream",
       "stream": "stdout",
       "text": [
        "\r",
        "100%[======================================>] 36,865      --.-K/s   in 0.1s    \r\n",
        "\r\n"
       ]
      },
      {
       "output_type": "stream",
       "stream": "stdout",
       "text": [
        "2014-07-10 08:54:18 (319 KB/s) - \u2018NC_017961.fna\u2019 saved [36865]\r\n",
        "\r\n"
       ]
      },
      {
       "output_type": "stream",
       "stream": "stdout",
       "text": [
        "--2014-07-10 08:54:18--  ftp://ftp.ncbi.nlm.nih.gov/genomes/Bacteria/Enterococcus_faecium_DO_uid55353/NC_017962.fna\r\n",
        "           => \u2018NC_017962.fna\u2019\r\n",
        "Resolving ftp.ncbi.nlm.nih.gov (ftp.ncbi.nlm.nih.gov)... 130.14.250.7, 2607:f220:41e:250::11\r\n",
        "Connecting to ftp.ncbi.nlm.nih.gov (ftp.ncbi.nlm.nih.gov)|130.14.250.7|:21... "
       ]
      },
      {
       "output_type": "stream",
       "stream": "stdout",
       "text": [
        "connected.\r\n",
        "Logging in as anonymous ... "
       ]
      },
      {
       "output_type": "stream",
       "stream": "stdout",
       "text": [
        "Logged in!\r\n",
        "==> SYST ... "
       ]
      },
      {
       "output_type": "stream",
       "stream": "stdout",
       "text": [
        "done.    ==> PWD ... "
       ]
      },
      {
       "output_type": "stream",
       "stream": "stdout",
       "text": [
        "done.\r\n",
        "==> TYPE I ... "
       ]
      },
      {
       "output_type": "stream",
       "stream": "stdout",
       "text": [
        "done.  ==> CWD (1) /genomes/Bacteria/Enterococcus_faecium_DO_uid55353 ... "
       ]
      },
      {
       "output_type": "stream",
       "stream": "stdout",
       "text": [
        "done.\r\n",
        "==> SIZE NC_017962.fna ... "
       ]
      },
      {
       "output_type": "stream",
       "stream": "stdout",
       "text": [
        "67278\r\n",
        "==> PASV ... "
       ]
      },
      {
       "output_type": "stream",
       "stream": "stdout",
       "text": [
        "done.    ==> RETR NC_017962.fna ... "
       ]
      },
      {
       "output_type": "stream",
       "stream": "stdout",
       "text": [
        "done.\r\n",
        "Length: 67278 (66K) (unauthoritative)\r\n",
        "\r\n",
        "\r",
        " 0% [                                       ] 0           --.-K/s              "
       ]
      },
      {
       "output_type": "stream",
       "stream": "stdout",
       "text": [
        "\r",
        "66% [=========================>             ] 44,888       152KB/s             \r",
        "100%[======================================>] 67,278       226KB/s   in 0.3s   \r\n",
        "\r\n"
       ]
      },
      {
       "output_type": "stream",
       "stream": "stdout",
       "text": [
        "2014-07-10 08:54:20 (226 KB/s) - \u2018NC_017962.fna\u2019 saved [67278]\r\n",
        "\r\n"
       ]
      },
      {
       "output_type": "stream",
       "stream": "stdout",
       "text": [
        "--2014-07-10 08:54:20--  ftp://ftp.ncbi.nlm.nih.gov/genomes/Bacteria/Enterococcus_faecium_DO_uid55353/NC_017963.fna\r\n",
        "           => \u2018NC_017963.fna\u2019\r\n",
        "Resolving ftp.ncbi.nlm.nih.gov (ftp.ncbi.nlm.nih.gov)... 130.14.250.7, 2607:f220:41e:250::11\r\n",
        "Connecting to ftp.ncbi.nlm.nih.gov (ftp.ncbi.nlm.nih.gov)|130.14.250.7|:21... "
       ]
      },
      {
       "output_type": "stream",
       "stream": "stdout",
       "text": [
        "connected.\r\n",
        "Logging in as anonymous ... "
       ]
      },
      {
       "output_type": "stream",
       "stream": "stdout",
       "text": [
        "Logged in!\r\n",
        "==> SYST ... "
       ]
      },
      {
       "output_type": "stream",
       "stream": "stdout",
       "text": [
        "done.    ==> PWD ... "
       ]
      },
      {
       "output_type": "stream",
       "stream": "stdout",
       "text": [
        "done.\r\n",
        "==> TYPE I ... "
       ]
      },
      {
       "output_type": "stream",
       "stream": "stdout",
       "text": [
        "done.  ==> CWD (1) /genomes/Bacteria/Enterococcus_faecium_DO_uid55353 ... "
       ]
      },
      {
       "output_type": "stream",
       "stream": "stdout",
       "text": [
        "done.\r\n",
        "==> SIZE NC_017963.fna ... "
       ]
      },
      {
       "output_type": "stream",
       "stream": "stdout",
       "text": [
        "255609\r\n",
        "==> PASV ... "
       ]
      },
      {
       "output_type": "stream",
       "stream": "stdout",
       "text": [
        "done.    ==> RETR NC_017963.fna ... "
       ]
      },
      {
       "output_type": "stream",
       "stream": "stdout",
       "text": [
        "done.\r\n",
        "Length: 255609 (250K) (unauthoritative)\r\n",
        "\r\n",
        "\r",
        " 0% [                                       ] 0           --.-K/s              "
       ]
      },
      {
       "output_type": "stream",
       "stream": "stdout",
       "text": [
        "\r",
        "17% [=====>                                 ] 44,888       154KB/s             "
       ]
      },
      {
       "output_type": "stream",
       "stream": "stdout",
       "text": [
        "\r",
        "62% [=======================>               ] 159,280      285KB/s             "
       ]
      },
      {
       "output_type": "stream",
       "stream": "stdout",
       "text": [
        "\r",
        "100%[======================================>] 255,609      366KB/s   in 0.7s   \r\n",
        "\r\n"
       ]
      },
      {
       "output_type": "stream",
       "stream": "stdout",
       "text": [
        "2014-07-10 08:54:23 (366 KB/s) - \u2018NC_017963.fna\u2019 saved [255609]\r\n",
        "\r\n"
       ]
      }
     ],
     "prompt_number": 1
    },
    {
     "cell_type": "markdown",
     "metadata": {},
     "source": [
      "OK, now we have the files we need to join them together so we can make a **reference database**."
     ]
    },
    {
     "cell_type": "code",
     "collapsed": false,
     "input": [
      "!cat NC_017960.fna NC_017961.fna NC_017962.fna NC_017963.fna > Efaecium_DO.fna"
     ],
     "language": "python",
     "metadata": {},
     "outputs": [],
     "prompt_number": 3
    },
    {
     "cell_type": "code",
     "collapsed": false,
     "input": [
      "!ls -l Efaecium_DO.fna"
     ],
     "language": "python",
     "metadata": {},
     "outputs": [
      {
       "output_type": "stream",
       "stream": "stdout",
       "text": [
        "-rw-rw-r-- 1 nick nick 3096517 Jul 10 08:55 Efaecium_DO.fna\r\n"
       ]
      }
     ],
     "prompt_number": 4
    },
    {
     "cell_type": "markdown",
     "metadata": {},
     "source": [
      "The next step is to index the reference database, so that it can be used for a **mapping alignment**."
     ]
    },
    {
     "cell_type": "code",
     "collapsed": false,
     "input": [
      "!bwa index Efaecium_DO.fna"
     ],
     "language": "python",
     "metadata": {},
     "outputs": [
      {
       "output_type": "stream",
       "stream": "stdout",
       "text": [
        "[bwa_index] Pack FASTA... "
       ]
      },
      {
       "output_type": "stream",
       "stream": "stdout",
       "text": [
        "0.05 sec\r\n",
        "[bwa_index] Construct BWT for the packed sequence...\r\n"
       ]
      },
      {
       "output_type": "stream",
       "stream": "stdout",
       "text": [
        "[bwa_index] 1.79 seconds elapse.\r\n",
        "[bwa_index] Update BWT... "
       ]
      },
      {
       "output_type": "stream",
       "stream": "stdout",
       "text": [
        "0.06 sec\r\n",
        "[bwa_index] Pack forward-only FASTA... "
       ]
      },
      {
       "output_type": "stream",
       "stream": "stdout",
       "text": [
        "0.03 sec\r\n",
        "[bwa_index] Construct SA from BWT and Occ... "
       ]
      },
      {
       "output_type": "stream",
       "stream": "stdout",
       "text": [
        "0.47 sec\r\n",
        "[main] Version: 0.7.5a-r405\r\n",
        "[main] CMD: bwa index Efaecium_DO.fna\r\n",
        "[main] Real time: 2.899 sec; CPU: 2.403 sec\r\n"
       ]
      }
     ],
     "prompt_number": 6
    },
    {
     "cell_type": "markdown",
     "metadata": {},
     "source": [
      "Now, we need the reads in order to map them against the **reference database**.\n",
      "    \n",
      "<http://pathogenomics.bham.ac.uk/filedist/kristine/Kristine_EF/>\n",
      "    \n",
      "In this case, the files have already been quality trimmed, and the Illumina Nextera adapters removed.\n",
      "\n",
      "Let's download the reads (each sample has a forward and a reverse read, designated 1 and 2):"
     ]
    },
    {
     "cell_type": "code",
     "collapsed": false,
     "input": [
      "!wget http://pathogenomics.bham.ac.uk/filedist/kristine/Kristine_EF/FK-014-S01_1_trimmed.fastq.gz\n",
      "!wget http://pathogenomics.bham.ac.uk/filedist/kristine/Kristine_EF/FK-014-S01_2_trimmed.fastq.gz"
     ],
     "language": "python",
     "metadata": {},
     "outputs": [
      {
       "output_type": "stream",
       "stream": "stdout",
       "text": [
        "--2014-07-10 08:59:19--  http://pathogenomics.bham.ac.uk/filedist/kristine/Kristine_EF/FK-014-S01_1_trimmed.fastq.gz\r\n",
        "Resolving pathogenomics.bham.ac.uk (pathogenomics.bham.ac.uk)... "
       ]
      },
      {
       "output_type": "stream",
       "stream": "stdout",
       "text": [
        "147.188.9.61\r\n",
        "Connecting to pathogenomics.bham.ac.uk (pathogenomics.bham.ac.uk)|147.188.9.61|:80... connected.\r\n",
        "HTTP request sent, awaiting response... 200 OK\r\n",
        "Length: 153911109 (147M) [application/octet-stream]\r\n",
        "Saving to: \u2018FK-014-S01_1_trimmed.fastq.gz\u2019\r\n",
        "\r\n",
        "\r",
        " 0% [                                       ] 0           --.-K/s              "
       ]
      },
      {
       "output_type": "stream",
       "stream": "stdout",
       "text": [
        "\r",
        " 1% [                                       ] 1,867,731   8.90MB/s             "
       ]
      },
      {
       "output_type": "stream",
       "stream": "stdout",
       "text": [
        "\r",
        " 2% [>                                      ] 4,149,779   9.89MB/s             "
       ]
      },
      {
       "output_type": "stream",
       "stream": "stdout",
       "text": [
        "\r",
        " 4% [>                                      ] 6,431,827   10.2MB/s             "
       ]
      },
      {
       "output_type": "stream",
       "stream": "stdout",
       "text": [
        "\r",
        " 5% [=>                                     ] 8,710,979   10.4MB/s             "
       ]
      },
      {
       "output_type": "stream",
       "stream": "stdout",
       "text": [
        "\r",
        " 7% [=>                                     ] 10,988,683  10.5MB/s             "
       ]
      },
      {
       "output_type": "stream",
       "stream": "stdout",
       "text": [
        "\r",
        " 8% [==>                                    ] 13,266,387  10.5MB/s             "
       ]
      },
      {
       "output_type": "stream",
       "stream": "stdout",
       "text": [
        "\r",
        "10% [==>                                    ] 15,548,435  10.6MB/s             "
       ]
      },
      {
       "output_type": "stream",
       "stream": "stdout",
       "text": [
        "\r",
        "11% [===>                                   ] 17,831,931  10.6MB/s             "
       ]
      },
      {
       "output_type": "stream",
       "stream": "stdout",
       "text": [
        "\r",
        "13% [====>                                  ] 20,113,979  10.7MB/s             "
       ]
      },
      {
       "output_type": "stream",
       "stream": "stdout",
       "text": [
        "\r",
        "14% [====>                                  ] 22,394,579  10.7MB/s             "
       ]
      },
      {
       "output_type": "stream",
       "stream": "stdout",
       "text": [
        "\r",
        "16% [=====>                                 ] 24,679,523  10.7MB/s             "
       ]
      },
      {
       "output_type": "stream",
       "stream": "stdout",
       "text": [
        "\r",
        "17% [=====>                                 ] 26,964,467  10.7MB/s             "
       ]
      },
      {
       "output_type": "stream",
       "stream": "stdout",
       "text": [
        "\r",
        "19% [======>                                ] 29,245,067  10.7MB/s             "
       ]
      },
      {
       "output_type": "stream",
       "stream": "stdout",
       "text": [
        "\r",
        "20% [======>                                ] 31,524,219  10.7MB/s             "
       ]
      },
      {
       "output_type": "stream",
       "stream": "stdout",
       "text": [
        "\r",
        "21% [=======>                               ] 33,807,715  10.7MB/s  eta 11s    "
       ]
      },
      {
       "output_type": "stream",
       "stream": "stdout",
       "text": [
        "\r",
        "23% [========>                              ] 36,086,867  10.9MB/s  eta 11s    "
       ]
      },
      {
       "output_type": "stream",
       "stream": "stdout",
       "text": [
        "\r",
        "24% [========>                              ] 38,367,467  10.9MB/s  eta 11s    "
       ]
      },
      {
       "output_type": "stream",
       "stream": "stdout",
       "text": [
        "\r",
        "26% [=========>                             ] 40,648,067  10.9MB/s  eta 11s    "
       ]
      },
      {
       "output_type": "stream",
       "stream": "stdout",
       "text": [
        "\r",
        "27% [=========>                             ] 42,928,667  10.9MB/s  eta 11s    "
       ]
      },
      {
       "output_type": "stream",
       "stream": "stdout",
       "text": [
        "\r",
        "29% [==========>                            ] 45,209,267  10.9MB/s  eta 10s    "
       ]
      },
      {
       "output_type": "stream",
       "stream": "stdout",
       "text": [
        "\r",
        "30% [===========>                           ] 47,494,211  10.9MB/s  eta 10s    "
       ]
      },
      {
       "output_type": "stream",
       "stream": "stdout",
       "text": [
        "\r",
        "32% [===========>                           ] 49,777,707  10.9MB/s  eta 10s    "
       ]
      },
      {
       "output_type": "stream",
       "stream": "stdout",
       "text": [
        "\r",
        "33% [============>                          ] 52,061,203  10.9MB/s  eta 10s    "
       ]
      },
      {
       "output_type": "stream",
       "stream": "stdout",
       "text": [
        "\r",
        "35% [============>                          ] 54,343,251  10.9MB/s  eta 10s    "
       ]
      },
      {
       "output_type": "stream",
       "stream": "stdout",
       "text": [
        "\r",
        "36% [=============>                         ] 56,623,851  10.9MB/s  eta 9s     "
       ]
      },
      {
       "output_type": "stream",
       "stream": "stdout",
       "text": [
        "\r",
        "38% [=============>                         ] 58,903,003  10.9MB/s  eta 9s     "
       ]
      },
      {
       "output_type": "stream",
       "stream": "stdout",
       "text": [
        "\r",
        "39% [==============>                        ] 61,187,947  10.9MB/s  eta 9s     "
       ]
      },
      {
       "output_type": "stream",
       "stream": "stdout",
       "text": [
        "\r",
        "41% [===============>                       ] 63,472,891  10.9MB/s  eta 9s     "
       ]
      },
      {
       "output_type": "stream",
       "stream": "stdout",
       "text": [
        "\r",
        "42% [===============>                       ] 65,752,043  10.9MB/s  eta 9s     "
       ]
      },
      {
       "output_type": "stream",
       "stream": "stdout",
       "text": [
        "\r",
        "44% [================>                      ] 68,028,299  10.9MB/s  eta 8s     "
       ]
      },
      {
       "output_type": "stream",
       "stream": "stdout",
       "text": [
        "\r",
        "45% [================>                      ] 70,307,451  10.9MB/s  eta 8s     "
       ]
      },
      {
       "output_type": "stream",
       "stream": "stdout",
       "text": [
        "\r",
        "47% [=================>                     ] 72,586,603  10.9MB/s  eta 8s     "
       ]
      },
      {
       "output_type": "stream",
       "stream": "stdout",
       "text": [
        "\r",
        "48% [=================>                     ] 74,868,651  10.9MB/s  eta 8s     "
       ]
      },
      {
       "output_type": "stream",
       "stream": "stdout",
       "text": [
        "\r",
        "50% [==================>                    ] 77,153,595  10.9MB/s  eta 8s     "
       ]
      },
      {
       "output_type": "stream",
       "stream": "stdout",
       "text": [
        "\r",
        "51% [===================>                   ] 79,434,195  10.9MB/s  eta 7s     "
       ]
      },
      {
       "output_type": "stream",
       "stream": "stdout",
       "text": [
        "\r",
        "53% [===================>                   ] 81,714,795  10.9MB/s  eta 7s     "
       ]
      },
      {
       "output_type": "stream",
       "stream": "stdout",
       "text": [
        "\r",
        "54% [====================>                  ] 83,995,395  10.9MB/s  eta 7s     "
       ]
      },
      {
       "output_type": "stream",
       "stream": "stdout",
       "text": [
        "\r",
        "56% [====================>                  ] 86,277,443  10.9MB/s  eta 7s     "
       ]
      },
      {
       "output_type": "stream",
       "stream": "stdout",
       "text": [
        "\r",
        "57% [=====================>                 ] 88,559,491  10.9MB/s  eta 7s     "
       ]
      },
      {
       "output_type": "stream",
       "stream": "stdout",
       "text": [
        "\r",
        "59% [======================>                ] 90,838,643  10.9MB/s  eta 6s     "
       ]
      },
      {
       "output_type": "stream",
       "stream": "stdout",
       "text": [
        "\r",
        "60% [======================>                ] 93,114,899  10.9MB/s  eta 6s     "
       ]
      },
      {
       "output_type": "stream",
       "stream": "stdout",
       "text": [
        "\r",
        "61% [=======================>               ] 95,396,947  10.9MB/s  eta 6s     "
       ]
      },
      {
       "output_type": "stream",
       "stream": "stdout",
       "text": [
        "\r",
        "63% [=======================>               ] 97,676,099  10.9MB/s  eta 6s     "
       ]
      },
      {
       "output_type": "stream",
       "stream": "stdout",
       "text": [
        "\r",
        "64% [========================>              ] 99,956,699  10.9MB/s  eta 6s     "
       ]
      },
      {
       "output_type": "stream",
       "stream": "stdout",
       "text": [
        "\r",
        "66% [========================>              ] 102,238,747 10.9MB/s  eta 5s     "
       ]
      },
      {
       "output_type": "stream",
       "stream": "stdout",
       "text": [
        "\r",
        "67% [=========================>             ] 104,519,347 10.9MB/s  eta 5s     "
       ]
      },
      {
       "output_type": "stream",
       "stream": "stdout",
       "text": [
        "\r",
        "69% [==========================>            ] 106,802,843 10.9MB/s  eta 5s     "
       ]
      },
      {
       "output_type": "stream",
       "stream": "stdout",
       "text": [
        "\r",
        "70% [==========================>            ] 109,083,443 10.9MB/s  eta 5s     "
       ]
      },
      {
       "output_type": "stream",
       "stream": "stdout",
       "text": [
        "\r",
        "72% [===========================>           ] 111,366,939 10.9MB/s  eta 5s     "
       ]
      },
      {
       "output_type": "stream",
       "stream": "stdout",
       "text": [
        "\r",
        "73% [===========================>           ] 113,651,883 10.9MB/s  eta 4s     "
       ]
      },
      {
       "output_type": "stream",
       "stream": "stdout",
       "text": [
        "\r",
        "75% [============================>          ] 115,935,379 10.9MB/s  eta 4s     "
       ]
      },
      {
       "output_type": "stream",
       "stream": "stdout",
       "text": [
        "\r",
        "76% [============================>          ] 118,218,875 10.9MB/s  eta 4s     "
       ]
      },
      {
       "output_type": "stream",
       "stream": "stdout",
       "text": [
        "\r",
        "78% [=============================>         ] 120,500,923 10.9MB/s  eta 4s     "
       ]
      },
      {
       "output_type": "stream",
       "stream": "stdout",
       "text": [
        "\r",
        "79% [==============================>        ] 122,781,523 10.9MB/s  eta 4s     "
       ]
      },
      {
       "output_type": "stream",
       "stream": "stdout",
       "text": [
        "\r",
        "81% [==============================>        ] 125,063,571 10.9MB/s  eta 3s     "
       ]
      },
      {
       "output_type": "stream",
       "stream": "stdout",
       "text": [
        "\r",
        "82% [===============================>       ] 127,344,171 10.9MB/s  eta 3s     "
       ]
      },
      {
       "output_type": "stream",
       "stream": "stdout",
       "text": [
        "\r",
        "84% [===============================>       ] 129,618,979 10.9MB/s  eta 3s     "
       ]
      },
      {
       "output_type": "stream",
       "stream": "stdout",
       "text": [
        "\r",
        "85% [================================>      ] 131,901,027 10.9MB/s  eta 3s     "
       ]
      },
      {
       "output_type": "stream",
       "stream": "stdout",
       "text": [
        "\r",
        "87% [================================>      ] 134,178,731 10.9MB/s  eta 3s     "
       ]
      },
      {
       "output_type": "stream",
       "stream": "stdout",
       "text": [
        "\r",
        "88% [=================================>     ] 136,460,779 10.9MB/s  eta 2s     "
       ]
      },
      {
       "output_type": "stream",
       "stream": "stdout",
       "text": [
        "\r",
        "90% [==================================>    ] 138,742,827 10.9MB/s  eta 2s     "
       ]
      },
      {
       "output_type": "stream",
       "stream": "stdout",
       "text": [
        "\r",
        "91% [==================================>    ] 141,026,323 10.9MB/s  eta 2s     "
       ]
      },
      {
       "output_type": "stream",
       "stream": "stdout",
       "text": [
        "\r",
        "93% [===================================>   ] 143,308,371 10.9MB/s  eta 2s     "
       ]
      },
      {
       "output_type": "stream",
       "stream": "stdout",
       "text": [
        "\r",
        "94% [===================================>   ] 145,588,971 10.9MB/s  eta 2s     "
       ]
      },
      {
       "output_type": "stream",
       "stream": "stdout",
       "text": [
        "\r",
        "96% [====================================>  ] 147,865,227 10.9MB/s  eta 1s     "
       ]
      },
      {
       "output_type": "stream",
       "stream": "stdout",
       "text": [
        "\r",
        "97% [=====================================> ] 150,145,827 10.9MB/s  eta 1s     "
       ]
      },
      {
       "output_type": "stream",
       "stream": "stdout",
       "text": [
        "\r",
        "99% [=====================================> ] 152,426,427 10.9MB/s  eta 1s     "
       ]
      },
      {
       "output_type": "stream",
       "stream": "stdout",
       "text": [
        "\r",
        "100%[======================================>] 153,911,109 10.9MB/s   in 14s    \r\n",
        "\r\n",
        "2014-07-10 08:59:33 (10.8 MB/s) - \u2018FK-014-S01_1_trimmed.fastq.gz\u2019 saved [153911109/153911109]\r\n",
        "\r\n"
       ]
      },
      {
       "output_type": "stream",
       "stream": "stdout",
       "text": [
        "--2014-07-10 08:59:33--  http://pathogenomics.bham.ac.uk/filedist/kristine/Kristine_EF/FK-014-S01_2_trimmed.fastq.gz\r\n",
        "Resolving pathogenomics.bham.ac.uk (pathogenomics.bham.ac.uk)... 147.188.9.61\r\n",
        "Connecting to pathogenomics.bham.ac.uk (pathogenomics.bham.ac.uk)|147.188.9.61|:80... connected.\r\n",
        "HTTP request sent, awaiting response... 200 OK\r\n",
        "Length: 153875010 (147M) [application/octet-stream]\r\n",
        "Saving to: \u2018FK-014-S01_2_trimmed.fastq.gz\u2019\r\n",
        "\r\n",
        "\r",
        " 0% [                                       ] 0           --.-K/s              "
       ]
      },
      {
       "output_type": "stream",
       "stream": "stdout",
       "text": [
        "\r",
        " 1% [                                       ] 1,944,720   9.27MB/s             "
       ]
      },
      {
       "output_type": "stream",
       "stream": "stdout",
       "text": [
        "\r",
        " 2% [>                                      ] 4,225,320   10.1MB/s             "
       ]
      },
      {
       "output_type": "stream",
       "stream": "stdout",
       "text": [
        "\r",
        " 4% [>                                      ] 6,507,368   10.3MB/s             "
       ]
      },
      {
       "output_type": "stream",
       "stream": "stdout",
       "text": [
        "\r",
        " 5% [=>                                     ] 8,790,864   10.5MB/s             "
       ]
      },
      {
       "output_type": "stream",
       "stream": "stdout",
       "text": [
        "\r",
        " 7% [=>                                     ] 11,072,912  10.6MB/s             "
       ]
      },
      {
       "output_type": "stream",
       "stream": "stdout",
       "text": [
        "\r",
        " 8% [==>                                    ] 13,353,512  10.6MB/s             "
       ]
      },
      {
       "output_type": "stream",
       "stream": "stdout",
       "text": [
        "\r",
        "10% [==>                                    ] 15,632,664  10.6MB/s             "
       ]
      },
      {
       "output_type": "stream",
       "stream": "stdout",
       "text": [
        "\r",
        "11% [===>                                   ] 17,917,608  10.7MB/s             "
       ]
      },
      {
       "output_type": "stream",
       "stream": "stdout",
       "text": [
        "\r",
        "13% [====>                                  ] 20,201,104  10.7MB/s             "
       ]
      },
      {
       "output_type": "stream",
       "stream": "stdout",
       "text": [
        "\r",
        "14% [====>                                  ] 22,483,152  10.7MB/s             "
       ]
      },
      {
       "output_type": "stream",
       "stream": "stdout",
       "text": [
        "\r",
        "16% [=====>                                 ] 24,765,200  10.7MB/s             "
       ]
      },
      {
       "output_type": "stream",
       "stream": "stdout",
       "text": [
        "\r",
        "17% [=====>                                 ] 27,048,696  10.7MB/s             "
       ]
      },
      {
       "output_type": "stream",
       "stream": "stdout",
       "text": [
        "\r",
        "19% [======>                                ] 29,330,744  10.8MB/s             "
       ]
      },
      {
       "output_type": "stream",
       "stream": "stdout",
       "text": [
        "\r",
        "20% [=======>                               ] 31,611,344  10.8MB/s             "
       ]
      },
      {
       "output_type": "stream",
       "stream": "stdout",
       "text": [
        "\r",
        "22% [=======>                               ] 33,891,944  10.8MB/s  eta 11s    "
       ]
      },
      {
       "output_type": "stream",
       "stream": "stdout",
       "text": [
        "\r",
        "23% [========>                              ] 36,171,096  10.9MB/s  eta 11s    "
       ]
      },
      {
       "output_type": "stream",
       "stream": "stdout",
       "text": [
        "\r",
        "24% [========>                              ] 38,450,248  10.9MB/s  eta 11s    "
       ]
      },
      {
       "output_type": "stream",
       "stream": "stdout",
       "text": [
        "\r",
        "26% [=========>                             ] 40,729,400  10.9MB/s  eta 11s    "
       ]
      },
      {
       "output_type": "stream",
       "stream": "stdout",
       "text": [
        "\r",
        "27% [=========>                             ] 43,008,552  10.9MB/s  eta 11s    "
       ]
      },
      {
       "output_type": "stream",
       "stream": "stdout",
       "text": [
        "\r",
        "29% [==========>                            ] 45,292,048  10.9MB/s  eta 10s    "
       ]
      },
      {
       "output_type": "stream",
       "stream": "stdout",
       "text": [
        "\r",
        "30% [===========>                           ] 47,574,096  10.9MB/s  eta 10s    "
       ]
      },
      {
       "output_type": "stream",
       "stream": "stdout",
       "text": [
        "\r",
        "32% [===========>                           ] 49,859,040  10.9MB/s  eta 10s    "
       ]
      },
      {
       "output_type": "stream",
       "stream": "stdout",
       "text": [
        "\r",
        "33% [============>                          ] 52,138,192  10.9MB/s  eta 10s    "
       ]
      },
      {
       "output_type": "stream",
       "stream": "stdout",
       "text": [
        "\r",
        "35% [============>                          ] 54,418,792  10.9MB/s  eta 10s    "
       ]
      },
      {
       "output_type": "stream",
       "stream": "stdout",
       "text": [
        "\r",
        "36% [=============>                         ] 56,699,392  10.9MB/s  eta 9s     "
       ]
      },
      {
       "output_type": "stream",
       "stream": "stdout",
       "text": [
        "\r",
        "38% [=============>                         ] 58,979,992  10.9MB/s  eta 9s     "
       ]
      },
      {
       "output_type": "stream",
       "stream": "stdout",
       "text": [
        "\r",
        "39% [==============>                        ] 61,257,696  10.9MB/s  eta 9s     "
       ]
      },
      {
       "output_type": "stream",
       "stream": "stdout",
       "text": [
        "\r",
        "41% [===============>                       ] 63,536,848  10.9MB/s  eta 9s     "
       ]
      },
      {
       "output_type": "stream",
       "stream": "stdout",
       "text": [
        "\r",
        "42% [===============>                       ] 65,821,792  10.9MB/s  eta 9s     "
       ]
      },
      {
       "output_type": "stream",
       "stream": "stdout",
       "text": [
        "\r",
        "44% [================>                      ] 68,106,736  10.9MB/s  eta 8s     "
       ]
      },
      {
       "output_type": "stream",
       "stream": "stdout",
       "text": [
        "\r",
        "45% [================>                      ] 70,385,888  10.9MB/s  eta 8s     "
       ]
      },
      {
       "output_type": "stream",
       "stream": "stdout",
       "text": [
        "\r",
        "47% [=================>                     ] 72,663,592  10.9MB/s  eta 8s     "
       ]
      },
      {
       "output_type": "stream",
       "stream": "stdout",
       "text": [
        "\r",
        "48% [=================>                     ] 74,945,640  10.9MB/s  eta 8s     "
       ]
      },
      {
       "output_type": "stream",
       "stream": "stdout",
       "text": [
        "\r",
        "50% [==================>                    ] 77,232,032  10.9MB/s  eta 8s     "
       ]
      },
      {
       "output_type": "stream",
       "stream": "stdout",
       "text": [
        "\r",
        "51% [===================>                   ] 79,509,736  10.9MB/s  eta 7s     "
       ]
      },
      {
       "output_type": "stream",
       "stream": "stdout",
       "text": [
        "\r",
        "53% [===================>                   ] 81,788,888  10.9MB/s  eta 7s     "
       ]
      },
      {
       "output_type": "stream",
       "stream": "stdout",
       "text": [
        "\r",
        "54% [====================>                  ] 84,069,488  10.9MB/s  eta 7s     "
       ]
      },
      {
       "output_type": "stream",
       "stream": "stdout",
       "text": [
        "\r",
        "56% [====================>                  ] 86,352,984  10.9MB/s  eta 7s     "
       ]
      },
      {
       "output_type": "stream",
       "stream": "stdout",
       "text": [
        "\r",
        "57% [=====================>                 ] 88,636,480  10.9MB/s  eta 7s     "
       ]
      },
      {
       "output_type": "stream",
       "stream": "stdout",
       "text": [
        "\r",
        "59% [======================>                ] 90,918,528  10.9MB/s  eta 6s     "
       ]
      },
      {
       "output_type": "stream",
       "stream": "stdout",
       "text": [
        "\r",
        "60% [======================>                ] 93,202,024  10.9MB/s  eta 6s     "
       ]
      },
      {
       "output_type": "stream",
       "stream": "stdout",
       "text": [
        "\r",
        "62% [=======================>               ] 95,484,072  10.9MB/s  eta 6s     "
       ]
      },
      {
       "output_type": "stream",
       "stream": "stdout",
       "text": [
        "\r",
        "63% [=======================>               ] 97,767,568  10.9MB/s  eta 6s     "
       ]
      },
      {
       "output_type": "stream",
       "stream": "stdout",
       "text": [
        "\r",
        "65% [========================>              ] 100,051,064 10.9MB/s  eta 6s     "
       ]
      },
      {
       "output_type": "stream",
       "stream": "stdout",
       "text": [
        "\r",
        "66% [========================>              ] 102,328,768 10.9MB/s  eta 5s     "
       ]
      },
      {
       "output_type": "stream",
       "stream": "stdout",
       "text": [
        "\r",
        "67% [=========================>             ] 104,613,712 10.9MB/s  eta 5s     "
       ]
      },
      {
       "output_type": "stream",
       "stream": "stdout",
       "text": [
        "\r",
        "69% [==========================>            ] 106,891,416 10.9MB/s  eta 5s     "
       ]
      },
      {
       "output_type": "stream",
       "stream": "stdout",
       "text": [
        "\r",
        "70% [==========================>            ] 109,174,912 10.9MB/s  eta 5s     "
       ]
      },
      {
       "output_type": "stream",
       "stream": "stdout",
       "text": [
        "\r",
        "72% [===========================>           ] 111,456,960 10.9MB/s  eta 5s     "
       ]
      },
      {
       "output_type": "stream",
       "stream": "stdout",
       "text": [
        "\r",
        "73% [===========================>           ] 113,733,216 10.9MB/s  eta 4s     "
       ]
      },
      {
       "output_type": "stream",
       "stream": "stdout",
       "text": [
        "\r",
        "75% [============================>          ] 116,012,368 10.9MB/s  eta 4s     "
       ]
      },
      {
       "output_type": "stream",
       "stream": "stdout",
       "text": [
        "\r",
        "76% [============================>          ] 118,295,864 10.9MB/s  eta 4s     "
       ]
      },
      {
       "output_type": "stream",
       "stream": "stdout",
       "text": [
        "\r",
        "78% [=============================>         ] 120,570,672 10.9MB/s  eta 4s     "
       ]
      },
      {
       "output_type": "stream",
       "stream": "stdout",
       "text": [
        "\r",
        "79% [==============================>        ] 122,854,168 10.9MB/s  eta 4s     "
       ]
      },
      {
       "output_type": "stream",
       "stream": "stdout",
       "text": [
        "\r",
        "81% [==============================>        ] 125,134,768 10.9MB/s  eta 3s     "
       ]
      },
      {
       "output_type": "stream",
       "stream": "stdout",
       "text": [
        "\r",
        "82% [===============================>       ] 127,416,816 10.9MB/s  eta 3s     "
       ]
      },
      {
       "output_type": "stream",
       "stream": "stdout",
       "text": [
        "\r",
        "84% [===============================>       ] 129,700,312 10.9MB/s  eta 3s     "
       ]
      },
      {
       "output_type": "stream",
       "stream": "stdout",
       "text": [
        "\r",
        "85% [================================>      ] 131,978,016 10.9MB/s  eta 3s     "
       ]
      },
      {
       "output_type": "stream",
       "stream": "stdout",
       "text": [
        "\r",
        "87% [=================================>     ] 134,261,512 10.9MB/s  eta 3s     "
       ]
      },
      {
       "output_type": "stream",
       "stream": "stdout",
       "text": [
        "\r",
        "88% [=================================>     ] 136,546,456 10.9MB/s  eta 2s     "
       ]
      },
      {
       "output_type": "stream",
       "stream": "stdout",
       "text": [
        "\r",
        "90% [==================================>    ] 138,824,160 10.9MB/s  eta 2s     "
       ]
      },
      {
       "output_type": "stream",
       "stream": "stdout",
       "text": [
        "\r",
        "91% [==================================>    ] 141,104,760 10.9MB/s  eta 2s     "
       ]
      },
      {
       "output_type": "stream",
       "stream": "stdout",
       "text": [
        "\r",
        "93% [===================================>   ] 143,388,256 10.9MB/s  eta 2s     "
       ]
      },
      {
       "output_type": "stream",
       "stream": "stdout",
       "text": [
        "\r",
        "94% [===================================>   ] 145,668,856 10.9MB/s  eta 2s     "
       ]
      },
      {
       "output_type": "stream",
       "stream": "stdout",
       "text": [
        "\r",
        "96% [====================================>  ] 147,950,904 10.9MB/s  eta 1s     "
       ]
      },
      {
       "output_type": "stream",
       "stream": "stdout",
       "text": [
        "\r",
        "97% [=====================================> ] 150,227,160 10.9MB/s  eta 1s     "
       ]
      },
      {
       "output_type": "stream",
       "stream": "stdout",
       "text": [
        "\r",
        "99% [=====================================> ] 152,509,208 10.9MB/s  eta 1s     "
       ]
      },
      {
       "output_type": "stream",
       "stream": "stdout",
       "text": [
        "\r",
        "100%[======================================>] 153,875,010 10.9MB/s   in 14s    \r\n",
        "\r\n",
        "2014-07-10 08:59:47 (10.9 MB/s) - \u2018FK-014-S01_2_trimmed.fastq.gz\u2019 saved [153875010/153875010]\r\n",
        "\r\n"
       ]
      }
     ],
     "prompt_number": 5
    },
    {
     "cell_type": "markdown",
     "metadata": {},
     "source": [
      "Now we can start to map the reads. We will use BWA-MEM for this, which is optimised for longer reads (>100bp)"
     ]
    },
    {
     "cell_type": "code",
     "collapsed": false,
     "input": [
      "!bwa mem Efaecium_DO.fna FK-014-S01_1_trimmed.fastq.gz FK-014-S01_2_trimmed.fastq.gz > FK-014-S01.sam"
     ],
     "language": "python",
     "metadata": {},
     "outputs": [
      {
       "output_type": "stream",
       "stream": "stdout",
       "text": [
        "[M::main_mem] read 42142 sequences (10000175 bp)...\r\n"
       ]
      },
      {
       "output_type": "stream",
       "stream": "stdout",
       "text": [
        "[M::mem_pestat] # candidate unique pairs for (FF, FR, RF, RR): (4, 13338, 0, 3)\r\n",
        "[M::mem_pestat] skip orientation FF as there are not enough pairs\r\n",
        "[M::mem_pestat] analyzing insert size distribution for orientation FR...\r\n",
        "[M::mem_pestat] (25, 50, 75) percentile: (237, 329, 434)\r\n",
        "[M::mem_pestat] low and high boundaries for computing mean and std.dev: (1, 828)\r\n",
        "[M::mem_pestat] mean and std.dev: (338.05, 153.16)\r\n",
        "[M::mem_pestat] low and high boundaries for proper pairs: (1, 1025)\r\n",
        "[M::mem_pestat] skip orientation RF as there are not enough pairs\r\n",
        "[M::mem_pestat] skip orientation RR as there are not enough pairs\r\n"
       ]
      },
      {
       "output_type": "stream",
       "stream": "stdout",
       "text": [
        "[M::worker2@0] performed mate-SW for 2852 reads\r\n"
       ]
      },
      {
       "output_type": "stream",
       "stream": "stdout",
       "text": [
        "[M::main_mem] read 41876 sequences (10000401 bp)...\r\n"
       ]
      },
      {
       "output_type": "stream",
       "stream": "stdout",
       "text": [
        "[M::mem_pestat] # candidate unique pairs for (FF, FR, RF, RR): (8, 13259, 0, 12)\r\n",
        "[M::mem_pestat] skip orientation FF as there are not enough pairs\r\n",
        "[M::mem_pestat] analyzing insert size distribution for orientation FR...\r\n",
        "[M::mem_pestat] (25, 50, 75) percentile: (237, 328, 430)\r\n",
        "[M::mem_pestat] low and high boundaries for computing mean and std.dev: (1, 816)\r\n",
        "[M::mem_pestat] mean and std.dev: (336.22, 151.81)\r\n",
        "[M::mem_pestat] low and high boundaries for proper pairs: (1, 1009)\r\n",
        "[M::mem_pestat] skip orientation RF as there are not enough pairs\r\n",
        "[M::mem_pestat] analyzing insert size distribution for orientation RR...\r\n",
        "[M::mem_pestat] (25, 50, 75) percentile: (302, 514, 1735)\r\n",
        "[M::mem_pestat] low and high boundaries for computing mean and std.dev: (1, 4601)\r\n",
        "[M::mem_pestat] mean and std.dev: (676.00, 618.41)\r\n",
        "[M::mem_pestat] low and high boundaries for proper pairs: (1, 6034)\r\n",
        "[M::mem_pestat] skip orientation RR\r\n"
       ]
      },
      {
       "output_type": "stream",
       "stream": "stdout",
       "text": [
        "[M::worker2@0] performed mate-SW for 2660 reads\r\n"
       ]
      },
      {
       "output_type": "stream",
       "stream": "stdout",
       "text": [
        "[M::main_mem] read 41470 sequences (10000106 bp)...\r\n"
       ]
      },
      {
       "output_type": "stream",
       "stream": "stdout",
       "text": [
        "[M::mem_pestat] # candidate unique pairs for (FF, FR, RF, RR): (5, 13133, 0, 2)\r\n",
        "[M::mem_pestat] skip orientation FF as there are not enough pairs\r\n",
        "[M::mem_pestat] analyzing insert size distribution for orientation FR...\r\n",
        "[M::mem_pestat] (25, 50, 75) percentile: (235, 327, 429)\r\n",
        "[M::mem_pestat] low and high boundaries for computing mean and std.dev: (1, 817)\r\n",
        "[M::mem_pestat] mean and std.dev: (334.74, 152.21)\r\n",
        "[M::mem_pestat] low and high boundaries for proper pairs: (1, 1011)\r\n",
        "[M::mem_pestat] skip orientation RF as there are not enough pairs\r\n",
        "[M::mem_pestat] skip orientation RR as there are not enough pairs\r\n"
       ]
      },
      {
       "output_type": "stream",
       "stream": "stdout",
       "text": [
        "[M::worker2@0] performed mate-SW for 2922 reads\r\n"
       ]
      },
      {
       "output_type": "stream",
       "stream": "stdout",
       "text": [
        "[M::main_mem] read 41392 sequences (10000109 bp)...\r\n"
       ]
      },
      {
       "output_type": "stream",
       "stream": "stdout",
       "text": [
        "[M::mem_pestat] # candidate unique pairs for (FF, FR, RF, RR): (14, 13119, 0, 10)\r\n",
        "[M::mem_pestat] analyzing insert size distribution for orientation FF...\r\n",
        "[M::mem_pestat] (25, 50, 75) percentile: (264, 616, 1529)\r\n",
        "[M::mem_pestat] low and high boundaries for computing mean and std.dev: (1, 4059)\r\n",
        "[M::mem_pestat] mean and std.dev: (818.43, 673.94)\r\n",
        "[M::mem_pestat] low and high boundaries for proper pairs: (1, 5324)\r\n",
        "[M::mem_pestat] analyzing insert size distribution for orientation FR...\r\n",
        "[M::mem_pestat] (25, 50, 75) percentile: (231, 330, 435)\r\n",
        "[M::mem_pestat] low and high boundaries for computing mean and std.dev: (1, 843)\r\n",
        "[M::mem_pestat] mean and std.dev: (336.68, 154.26)\r\n",
        "[M::mem_pestat] low and high boundaries for proper pairs: (1, 1047)\r\n",
        "[M::mem_pestat] skip orientation RF as there are not enough pairs\r\n",
        "[M::mem_pestat] analyzing insert size distribution for orientation RR...\r\n",
        "[M::mem_pestat] (25, 50, 75) percentile: (112, 365, 1257)\r\n",
        "[M::mem_pestat] low and high boundaries for computing mean and std.dev: (1, 3547)\r\n",
        "[M::mem_pestat] mean and std.dev: (797.90, 1030.20)\r\n",
        "[M::mem_pestat] low and high boundaries for proper pairs: (1, 4692)\r\n",
        "[M::mem_pestat] skip orientation FF\r\n",
        "[M::mem_pestat] skip orientation RR\r\n"
       ]
      },
      {
       "output_type": "stream",
       "stream": "stdout",
       "text": [
        "[M::worker2@0] performed mate-SW for 2741 reads\r\n"
       ]
      },
      {
       "output_type": "stream",
       "stream": "stdout",
       "text": [
        "[M::main_mem] read 41292 sequences (10000212 bp)...\r\n"
       ]
      },
      {
       "output_type": "stream",
       "stream": "stdout",
       "text": [
        "[M::mem_pestat] # candidate unique pairs for (FF, FR, RF, RR): (4, 13194, 0, 4)\r\n",
        "[M::mem_pestat] skip orientation FF as there are not enough pairs\r\n",
        "[M::mem_pestat] analyzing insert size distribution for orientation FR...\r\n",
        "[M::mem_pestat] (25, 50, 75) percentile: (233, 326, 429)\r\n",
        "[M::mem_pestat] low and high boundaries for computing mean and std.dev: (1, 821)\r\n",
        "[M::mem_pestat] mean and std.dev: (333.67, 152.37)\r\n",
        "[M::mem_pestat] low and high boundaries for proper pairs: (1, 1017)\r\n",
        "[M::mem_pestat] skip orientation RF as there are not enough pairs\r\n",
        "[M::mem_pestat] skip orientation RR as there are not enough pairs\r\n"
       ]
      },
      {
       "output_type": "stream",
       "stream": "stdout",
       "text": [
        "[M::worker2@0] performed mate-SW for 2734 reads\r\n"
       ]
      },
      {
       "output_type": "stream",
       "stream": "stdout",
       "text": [
        "[M::main_mem] read 41454 sequences (10000377 bp)...\r\n"
       ]
      },
      {
       "output_type": "stream",
       "stream": "stdout",
       "text": [
        "[M::mem_pestat] # candidate unique pairs for (FF, FR, RF, RR): (5, 13087, 1, 5)\r\n",
        "[M::mem_pestat] skip orientation FF as there are not enough pairs\r\n",
        "[M::mem_pestat] analyzing insert size distribution for orientation FR...\r\n",
        "[M::mem_pestat] (25, 50, 75) percentile: (233, 325, 430)\r\n",
        "[M::mem_pestat] low and high boundaries for computing mean and std.dev: (1, 824)\r\n",
        "[M::mem_pestat] mean and std.dev: (333.90, 150.82)\r\n",
        "[M::mem_pestat] low and high boundaries for proper pairs: (1, 1021)\r\n",
        "[M::mem_pestat] skip orientation RF as there are not enough pairs\r\n",
        "[M::mem_pestat] skip orientation RR as there are not enough pairs\r\n"
       ]
      },
      {
       "output_type": "stream",
       "stream": "stdout",
       "text": [
        "[M::worker2@0] performed mate-SW for 2661 reads\r\n"
       ]
      },
      {
       "output_type": "stream",
       "stream": "stdout",
       "text": [
        "[M::main_mem] read 41590 sequences (10000472 bp)...\r\n"
       ]
      },
      {
       "output_type": "stream",
       "stream": "stdout",
       "text": [
        "[M::mem_pestat] # candidate unique pairs for (FF, FR, RF, RR): (5, 13231, 2, 4)\r\n",
        "[M::mem_pestat] skip orientation FF as there are not enough pairs\r\n",
        "[M::mem_pestat] analyzing insert size distribution for orientation FR...\r\n",
        "[M::mem_pestat] (25, 50, 75) percentile: (232, 326, 427)\r\n",
        "[M::mem_pestat] low and high boundaries for computing mean and std.dev: (1, 817)\r\n",
        "[M::mem_pestat] mean and std.dev: (333.31, 151.99)\r\n",
        "[M::mem_pestat] low and high boundaries for proper pairs: (1, 1012)\r\n",
        "[M::mem_pestat] skip orientation RF as there are not enough pairs\r\n",
        "[M::mem_pestat] skip orientation RR as there are not enough pairs\r\n"
       ]
      },
      {
       "output_type": "stream",
       "stream": "stdout",
       "text": [
        "[M::worker2@0] performed mate-SW for 2658 reads\r\n"
       ]
      },
      {
       "output_type": "stream",
       "stream": "stdout",
       "text": [
        "[M::main_mem] read 41404 sequences (10000188 bp)...\r\n"
       ]
      },
      {
       "output_type": "stream",
       "stream": "stdout",
       "text": [
        "[M::mem_pestat] # candidate unique pairs for (FF, FR, RF, RR): (7, 13092, 0, 6)\r\n",
        "[M::mem_pestat] skip orientation FF as there are not enough pairs\r\n",
        "[M::mem_pestat] analyzing insert size distribution for orientation FR...\r\n",
        "[M::mem_pestat] (25, 50, 75) percentile: (232, 328, 429)\r\n",
        "[M::mem_pestat] low and high boundaries for computing mean and std.dev: (1, 823)\r\n",
        "[M::mem_pestat] mean and std.dev: (333.42, 152.22)\r\n",
        "[M::mem_pestat] low and high boundaries for proper pairs: (1, 1020)\r\n",
        "[M::mem_pestat] skip orientation RF as there are not enough pairs\r\n",
        "[M::mem_pestat] skip orientation RR as there are not enough pairs\r\n"
       ]
      },
      {
       "output_type": "stream",
       "stream": "stdout",
       "text": [
        "[M::worker2@0] performed mate-SW for 2793 reads\r\n"
       ]
      },
      {
       "output_type": "stream",
       "stream": "stdout",
       "text": [
        "[M::main_mem] read 41398 sequences (10000148 bp)...\r\n"
       ]
      },
      {
       "output_type": "stream",
       "stream": "stdout",
       "text": [
        "[M::mem_pestat] # candidate unique pairs for (FF, FR, RF, RR): (4, 13190, 0, 7)\r\n",
        "[M::mem_pestat] skip orientation FF as there are not enough pairs\r\n",
        "[M::mem_pestat] analyzing insert size distribution for orientation FR...\r\n",
        "[M::mem_pestat] (25, 50, 75) percentile: (233, 327, 425)\r\n",
        "[M::mem_pestat] low and high boundaries for computing mean and std.dev: (1, 809)\r\n",
        "[M::mem_pestat] mean and std.dev: (333.00, 150.45)\r\n",
        "[M::mem_pestat] low and high boundaries for proper pairs: (1, 1001)\r\n",
        "[M::mem_pestat] skip orientation RF as there are not enough pairs\r\n",
        "[M::mem_pestat] skip orientation RR as there are not enough pairs\r\n"
       ]
      },
      {
       "output_type": "stream",
       "stream": "stdout",
       "text": [
        "[M::worker2@0] performed mate-SW for 2786 reads\r\n"
       ]
      },
      {
       "output_type": "stream",
       "stream": "stdout",
       "text": [
        "[M::main_mem] read 41418 sequences (10000117 bp)...\r\n"
       ]
      },
      {
       "output_type": "stream",
       "stream": "stdout",
       "text": [
        "[M::mem_pestat] # candidate unique pairs for (FF, FR, RF, RR): (2, 13258, 0, 2)\r\n",
        "[M::mem_pestat] skip orientation FF as there are not enough pairs\r\n",
        "[M::mem_pestat] analyzing insert size distribution for orientation FR...\r\n",
        "[M::mem_pestat] (25, 50, 75) percentile: (234, 325, 425)\r\n",
        "[M::mem_pestat] low and high boundaries for computing mean and std.dev: (1, 807)\r\n",
        "[M::mem_pestat] mean and std.dev: (332.50, 150.41)\r\n",
        "[M::mem_pestat] low and high boundaries for proper pairs: (1, 998)\r\n",
        "[M::mem_pestat] skip orientation RF as there are not enough pairs\r\n",
        "[M::mem_pestat] skip orientation RR as there are not enough pairs\r\n"
       ]
      },
      {
       "output_type": "stream",
       "stream": "stdout",
       "text": [
        "[M::worker2@0] performed mate-SW for 2703 reads\r\n"
       ]
      },
      {
       "output_type": "stream",
       "stream": "stdout",
       "text": [
        "[M::main_mem] read 41614 sequences (10000027 bp)...\r\n"
       ]
      },
      {
       "output_type": "stream",
       "stream": "stdout",
       "text": [
        "[M::mem_pestat] # candidate unique pairs for (FF, FR, RF, RR): (4, 13304, 0, 6)\r\n",
        "[M::mem_pestat] skip orientation FF as there are not enough pairs\r\n",
        "[M::mem_pestat] analyzing insert size distribution for orientation FR...\r\n",
        "[M::mem_pestat] (25, 50, 75) percentile: (235, 327, 431)\r\n",
        "[M::mem_pestat] low and high boundaries for computing mean and std.dev: (1, 823)\r\n",
        "[M::mem_pestat] mean and std.dev: (334.39, 150.77)\r\n",
        "[M::mem_pestat] low and high boundaries for proper pairs: (1, 1019)\r\n",
        "[M::mem_pestat] skip orientation RF as there are not enough pairs\r\n",
        "[M::mem_pestat] skip orientation RR as there are not enough pairs\r\n"
       ]
      },
      {
       "output_type": "stream",
       "stream": "stdout",
       "text": [
        "[M::worker2@0] performed mate-SW for 2637 reads\r\n"
       ]
      },
      {
       "output_type": "stream",
       "stream": "stdout",
       "text": [
        "[M::main_mem] read 41138 sequences (10000539 bp)...\r\n"
       ]
      },
      {
       "output_type": "stream",
       "stream": "stdout",
       "text": [
        "[M::mem_pestat] # candidate unique pairs for (FF, FR, RF, RR): (3, 13112, 0, 4)\r\n",
        "[M::mem_pestat] skip orientation FF as there are not enough pairs\r\n",
        "[M::mem_pestat] analyzing insert size distribution for orientation FR...\r\n",
        "[M::mem_pestat] (25, 50, 75) percentile: (235, 326, 429)\r\n",
        "[M::mem_pestat] low and high boundaries for computing mean and std.dev: (1, 817)\r\n",
        "[M::mem_pestat] mean and std.dev: (334.64, 152.21)\r\n",
        "[M::mem_pestat] low and high boundaries for proper pairs: (1, 1011)\r\n",
        "[M::mem_pestat] skip orientation RF as there are not enough pairs\r\n",
        "[M::mem_pestat] skip orientation RR as there are not enough pairs\r\n"
       ]
      },
      {
       "output_type": "stream",
       "stream": "stdout",
       "text": [
        "[M::worker2@0] performed mate-SW for 2615 reads\r\n"
       ]
      },
      {
       "output_type": "stream",
       "stream": "stdout",
       "text": [
        "[M::main_mem] read 41564 sequences (10000357 bp)...\r\n"
       ]
      },
      {
       "output_type": "stream",
       "stream": "stdout",
       "text": [
        "[M::mem_pestat] # candidate unique pairs for (FF, FR, RF, RR): (7, 13201, 0, 4)\r\n",
        "[M::mem_pestat] skip orientation FF as there are not enough pairs\r\n",
        "[M::mem_pestat] analyzing insert size distribution for orientation FR...\r\n",
        "[M::mem_pestat] (25, 50, 75) percentile: (233, 329, 431)\r\n",
        "[M::mem_pestat] low and high boundaries for computing mean and std.dev: (1, 827)\r\n",
        "[M::mem_pestat] mean and std.dev: (336.21, 154.24)\r\n",
        "[M::mem_pestat] low and high boundaries for proper pairs: (1, 1025)\r\n",
        "[M::mem_pestat] skip orientation RF as there are not enough pairs\r\n",
        "[M::mem_pestat] skip orientation RR as there are not enough pairs\r\n"
       ]
      },
      {
       "output_type": "stream",
       "stream": "stdout",
       "text": [
        "[M::worker2@0] performed mate-SW for 2709 reads\r\n"
       ]
      },
      {
       "output_type": "stream",
       "stream": "stdout",
       "text": [
        "[M::main_mem] read 41760 sequences (10000059 bp)...\r\n"
       ]
      },
      {
       "output_type": "stream",
       "stream": "stdout",
       "text": [
        "[M::mem_pestat] # candidate unique pairs for (FF, FR, RF, RR): (7, 13195, 0, 6)\r\n",
        "[M::mem_pestat] skip orientation FF as there are not enough pairs\r\n",
        "[M::mem_pestat] analyzing insert size distribution for orientation FR...\r\n",
        "[M::mem_pestat] (25, 50, 75) percentile: (234, 327, 431)\r\n",
        "[M::mem_pestat] low and high boundaries for computing mean and std.dev: (1, 825)\r\n",
        "[M::mem_pestat] mean and std.dev: (334.85, 153.23)\r\n",
        "[M::mem_pestat] low and high boundaries for proper pairs: (1, 1022)\r\n",
        "[M::mem_pestat] skip orientation RF as there are not enough pairs\r\n",
        "[M::mem_pestat] skip orientation RR as there are not enough pairs\r\n"
       ]
      },
      {
       "output_type": "stream",
       "stream": "stdout",
       "text": [
        "[M::worker2@0] performed mate-SW for 2631 reads\r\n"
       ]
      },
      {
       "output_type": "stream",
       "stream": "stdout",
       "text": [
        "[M::main_mem] read 41422 sequences (10000002 bp)...\r\n"
       ]
      },
      {
       "output_type": "stream",
       "stream": "stdout",
       "text": [
        "[M::mem_pestat] # candidate unique pairs for (FF, FR, RF, RR): (4, 13130, 0, 5)\r\n",
        "[M::mem_pestat] skip orientation FF as there are not enough pairs\r\n",
        "[M::mem_pestat] analyzing insert size distribution for orientation FR...\r\n",
        "[M::mem_pestat] (25, 50, 75) percentile: (232, 326, 428)\r\n",
        "[M::mem_pestat] low and high boundaries for computing mean and std.dev: (1, 820)\r\n",
        "[M::mem_pestat] mean and std.dev: (333.14, 151.66)\r\n",
        "[M::mem_pestat] low and high boundaries for proper pairs: (1, 1016)\r\n",
        "[M::mem_pestat] skip orientation RF as there are not enough pairs\r\n",
        "[M::mem_pestat] skip orientation RR as there are not enough pairs\r\n"
       ]
      },
      {
       "output_type": "stream",
       "stream": "stdout",
       "text": [
        "[M::worker2@0] performed mate-SW for 2581 reads\r\n"
       ]
      },
      {
       "output_type": "stream",
       "stream": "stdout",
       "text": [
        "[M::main_mem] read 41562 sequences (10000567 bp)...\r\n"
       ]
      },
      {
       "output_type": "stream",
       "stream": "stdout",
       "text": [
        "[M::mem_pestat] # candidate unique pairs for (FF, FR, RF, RR): (5, 13170, 0, 8)\r\n",
        "[M::mem_pestat] skip orientation FF as there are not enough pairs\r\n",
        "[M::mem_pestat] analyzing insert size distribution for orientation FR...\r\n",
        "[M::mem_pestat] (25, 50, 75) percentile: (233, 325, 429)\r\n",
        "[M::mem_pestat] low and high boundaries for computing mean and std.dev: (1, 821)\r\n",
        "[M::mem_pestat] mean and std.dev: (333.18, 150.64)\r\n",
        "[M::mem_pestat] low and high boundaries for proper pairs: (1, 1017)\r\n",
        "[M::mem_pestat] skip orientation RF as there are not enough pairs\r\n",
        "[M::mem_pestat] skip orientation RR as there are not enough pairs\r\n"
       ]
      },
      {
       "output_type": "stream",
       "stream": "stdout",
       "text": [
        "[M::worker2@0] performed mate-SW for 2846 reads\r\n"
       ]
      },
      {
       "output_type": "stream",
       "stream": "stdout",
       "text": [
        "[M::main_mem] read 41730 sequences (10000295 bp)...\r\n"
       ]
      },
      {
       "output_type": "stream",
       "stream": "stdout",
       "text": [
        "[M::mem_pestat] # candidate unique pairs for (FF, FR, RF, RR): (5, 13218, 0, 3)\r\n",
        "[M::mem_pestat] skip orientation FF as there are not enough pairs\r\n",
        "[M::mem_pestat] analyzing insert size distribution for orientation FR...\r\n",
        "[M::mem_pestat] (25, 50, 75) percentile: (230, 326, 427)\r\n",
        "[M::mem_pestat] low and high boundaries for computing mean and std.dev: (1, 821)\r\n",
        "[M::mem_pestat] mean and std.dev: (332.31, 151.53)\r\n",
        "[M::mem_pestat] low and high boundaries for proper pairs: (1, 1018)\r\n",
        "[M::mem_pestat] skip orientation RF as there are not enough pairs\r\n",
        "[M::mem_pestat] skip orientation RR as there are not enough pairs\r\n"
       ]
      },
      {
       "output_type": "stream",
       "stream": "stdout",
       "text": [
        "[M::worker2@0] performed mate-SW for 2720 reads\r\n"
       ]
      },
      {
       "output_type": "stream",
       "stream": "stdout",
       "text": [
        "[M::main_mem] read 41506 sequences (10000319 bp)...\r\n"
       ]
      },
      {
       "output_type": "stream",
       "stream": "stdout",
       "text": [
        "[M::mem_pestat] # candidate unique pairs for (FF, FR, RF, RR): (5, 13189, 0, 4)\r\n",
        "[M::mem_pestat] skip orientation FF as there are not enough pairs\r\n",
        "[M::mem_pestat] analyzing insert size distribution for orientation FR...\r\n",
        "[M::mem_pestat] (25, 50, 75) percentile: (233, 326, 426)\r\n",
        "[M::mem_pestat] low and high boundaries for computing mean and std.dev: (1, 812)\r\n",
        "[M::mem_pestat] mean and std.dev: (331.64, 149.08)\r\n",
        "[M::mem_pestat] low and high boundaries for proper pairs: (1, 1005)\r\n",
        "[M::mem_pestat] skip orientation RF as there are not enough pairs\r\n",
        "[M::mem_pestat] skip orientation RR as there are not enough pairs\r\n"
       ]
      },
      {
       "output_type": "stream",
       "stream": "stdout",
       "text": [
        "[M::worker2@0] performed mate-SW for 2822 reads\r\n"
       ]
      },
      {
       "output_type": "stream",
       "stream": "stdout",
       "text": [
        "[M::main_mem] read 41200 sequences (10000105 bp)...\r\n"
       ]
      },
      {
       "output_type": "stream",
       "stream": "stdout",
       "text": [
        "[M::mem_pestat] # candidate unique pairs for (FF, FR, RF, RR): (7, 13155, 1, 5)\r\n",
        "[M::mem_pestat] skip orientation FF as there are not enough pairs\r\n",
        "[M::mem_pestat] analyzing insert size distribution for orientation FR...\r\n",
        "[M::mem_pestat] (25, 50, 75) percentile: (233, 327, 429)\r\n",
        "[M::mem_pestat] low and high boundaries for computing mean and std.dev: (1, 821)\r\n",
        "[M::mem_pestat] mean and std.dev: (333.73, 151.53)\r\n",
        "[M::mem_pestat] low and high boundaries for proper pairs: (1, 1017)\r\n",
        "[M::mem_pestat] skip orientation RF as there are not enough pairs\r\n",
        "[M::mem_pestat] skip orientation RR as there are not enough pairs\r\n"
       ]
      },
      {
       "output_type": "stream",
       "stream": "stdout",
       "text": [
        "[M::worker2@0] performed mate-SW for 2540 reads\r\n"
       ]
      },
      {
       "output_type": "stream",
       "stream": "stdout",
       "text": [
        "[M::main_mem] read 41476 sequences (10000392 bp)...\r\n"
       ]
      },
      {
       "output_type": "stream",
       "stream": "stdout",
       "text": [
        "[M::mem_pestat] # candidate unique pairs for (FF, FR, RF, RR): (7, 13224, 1, 3)\r\n",
        "[M::mem_pestat] skip orientation FF as there are not enough pairs\r\n",
        "[M::mem_pestat] analyzing insert size distribution for orientation FR...\r\n",
        "[M::mem_pestat] (25, 50, 75) percentile: (232, 326, 427)\r\n",
        "[M::mem_pestat] low and high boundaries for computing mean and std.dev: (1, 817)\r\n",
        "[M::mem_pestat] mean and std.dev: (331.77, 150.10)\r\n",
        "[M::mem_pestat] low and high boundaries for proper pairs: (1, 1012)\r\n",
        "[M::mem_pestat] skip orientation RF as there are not enough pairs\r\n",
        "[M::mem_pestat] skip orientation RR as there are not enough pairs\r\n"
       ]
      },
      {
       "output_type": "stream",
       "stream": "stdout",
       "text": [
        "[M::worker2@0] performed mate-SW for 2643 reads\r\n"
       ]
      },
      {
       "output_type": "stream",
       "stream": "stdout",
       "text": [
        "[M::main_mem] read 41758 sequences (10000189 bp)...\r\n"
       ]
      },
      {
       "output_type": "stream",
       "stream": "stdout",
       "text": [
        "[M::mem_pestat] # candidate unique pairs for (FF, FR, RF, RR): (2, 13252, 0, 2)\r\n",
        "[M::mem_pestat] skip orientation FF as there are not enough pairs\r\n",
        "[M::mem_pestat] analyzing insert size distribution for orientation FR...\r\n",
        "[M::mem_pestat] (25, 50, 75) percentile: (232, 328, 429)\r\n",
        "[M::mem_pestat] low and high boundaries for computing mean and std.dev: (1, 823)\r\n",
        "[M::mem_pestat] mean and std.dev: (333.98, 151.46)\r\n",
        "[M::mem_pestat] low and high boundaries for proper pairs: (1, 1020)\r\n",
        "[M::mem_pestat] skip orientation RF as there are not enough pairs\r\n",
        "[M::mem_pestat] skip orientation RR as there are not enough pairs\r\n"
       ]
      },
      {
       "output_type": "stream",
       "stream": "stdout",
       "text": [
        "[M::worker2@0] performed mate-SW for 2842 reads\r\n"
       ]
      },
      {
       "output_type": "stream",
       "stream": "stdout",
       "text": [
        "[M::main_mem] read 42052 sequences (10000061 bp)...\r\n"
       ]
      },
      {
       "output_type": "stream",
       "stream": "stdout",
       "text": [
        "[M::mem_pestat] # candidate unique pairs for (FF, FR, RF, RR): (11, 13280, 1, 0)\r\n",
        "[M::mem_pestat] analyzing insert size distribution for orientation FF...\r\n",
        "[M::mem_pestat] (25, 50, 75) percentile: (234, 383, 968)\r\n",
        "[M::mem_pestat] low and high boundaries for computing mean and std.dev: (1, 2436)\r\n",
        "[M::mem_pestat] mean and std.dev: (460.22, 328.98)\r\n",
        "[M::mem_pestat] low and high boundaries for proper pairs: (1, 3170)\r\n",
        "[M::mem_pestat] analyzing insert size distribution for orientation FR...\r\n",
        "[M::mem_pestat] (25, 50, 75) percentile: (234, 326, 428)\r\n",
        "[M::mem_pestat] low and high boundaries for computing mean and std.dev: (1, 816)\r\n",
        "[M::mem_pestat] mean and std.dev: (334.16, 149.63)\r\n",
        "[M::mem_pestat] low and high boundaries for proper pairs: (1, 1010)\r\n",
        "[M::mem_pestat] skip orientation RF as there are not enough pairs\r\n",
        "[M::mem_pestat] skip orientation RR as there are not enough pairs\r\n",
        "[M::mem_pestat] skip orientation FF\r\n"
       ]
      },
      {
       "output_type": "stream",
       "stream": "stdout",
       "text": [
        "[M::worker2@0] performed mate-SW for 2677 reads\r\n"
       ]
      },
      {
       "output_type": "stream",
       "stream": "stdout",
       "text": [
        "[M::main_mem] read 41824 sequences (10000096 bp)...\r\n"
       ]
      },
      {
       "output_type": "stream",
       "stream": "stdout",
       "text": [
        "[M::mem_pestat] # candidate unique pairs for (FF, FR, RF, RR): (9, 13230, 0, 11)\r\n",
        "[M::mem_pestat] skip orientation FF as there are not enough pairs\r\n",
        "[M::mem_pestat] analyzing insert size distribution for orientation FR...\r\n",
        "[M::mem_pestat] (25, 50, 75) percentile: (231, 327, 426)\r\n",
        "[M::mem_pestat] low and high boundaries for computing mean and std.dev: (1, 816)\r\n",
        "[M::mem_pestat] mean and std.dev: (332.04, 148.68)\r\n",
        "[M::mem_pestat] low and high boundaries for proper pairs: (1, 1011)\r\n",
        "[M::mem_pestat] skip orientation RF as there are not enough pairs\r\n",
        "[M::mem_pestat] analyzing insert size distribution for orientation RR...\r\n",
        "[M::mem_pestat] (25, 50, 75) percentile: (285, 342, 1137)\r\n",
        "[M::mem_pestat] low and high boundaries for computing mean and std.dev: (1, 2841)\r\n",
        "[M::mem_pestat] mean and std.dev: (675.30, 748.61)\r\n",
        "[M::mem_pestat] low and high boundaries for proper pairs: (1, 3693)\r\n",
        "[M::mem_pestat] skip orientation RR\r\n"
       ]
      },
      {
       "output_type": "stream",
       "stream": "stdout",
       "text": [
        "[M::worker2@0] performed mate-SW for 2825 reads\r\n"
       ]
      },
      {
       "output_type": "stream",
       "stream": "stdout",
       "text": [
        "[M::main_mem] read 42484 sequences (10000360 bp)...\r\n"
       ]
      },
      {
       "output_type": "stream",
       "stream": "stdout",
       "text": [
        "[M::mem_pestat] # candidate unique pairs for (FF, FR, RF, RR): (6, 13468, 1, 2)\r\n",
        "[M::mem_pestat] skip orientation FF as there are not enough pairs\r\n",
        "[M::mem_pestat] analyzing insert size distribution for orientation FR...\r\n",
        "[M::mem_pestat] (25, 50, 75) percentile: (233, 327, 426)\r\n",
        "[M::mem_pestat] low and high boundaries for computing mean and std.dev: (1, 812)\r\n",
        "[M::mem_pestat] mean and std.dev: (333.71, 149.92)\r\n",
        "[M::mem_pestat] low and high boundaries for proper pairs: (1, 1005)\r\n",
        "[M::mem_pestat] skip orientation RF as there are not enough pairs\r\n",
        "[M::mem_pestat] skip orientation RR as there are not enough pairs\r\n"
       ]
      },
      {
       "output_type": "stream",
       "stream": "stdout",
       "text": [
        "[M::worker2@0] performed mate-SW for 3005 reads\r\n"
       ]
      },
      {
       "output_type": "stream",
       "stream": "stdout",
       "text": [
        "[M::main_mem] read 42598 sequences (10000558 bp)...\r\n"
       ]
      },
      {
       "output_type": "stream",
       "stream": "stdout",
       "text": [
        "[M::mem_pestat] # candidate unique pairs for (FF, FR, RF, RR): (2, 13536, 1, 2)\r\n",
        "[M::mem_pestat] skip orientation FF as there are not enough pairs\r\n",
        "[M::mem_pestat] analyzing insert size distribution for orientation FR...\r\n",
        "[M::mem_pestat] (25, 50, 75) percentile: (234, 327, 428)\r\n",
        "[M::mem_pestat] low and high boundaries for computing mean and std.dev: (1, 816)\r\n",
        "[M::mem_pestat] mean and std.dev: (334.24, 149.30)\r\n",
        "[M::mem_pestat] low and high boundaries for proper pairs: (1, 1010)\r\n",
        "[M::mem_pestat] skip orientation RF as there are not enough pairs\r\n",
        "[M::mem_pestat] skip orientation RR as there are not enough pairs\r\n"
       ]
      },
      {
       "output_type": "stream",
       "stream": "stdout",
       "text": [
        "[M::worker2@0] performed mate-SW for 2877 reads\r\n"
       ]
      },
      {
       "output_type": "stream",
       "stream": "stdout",
       "text": [
        "[M::main_mem] read 42726 sequences (10000149 bp)...\r\n"
       ]
      },
      {
       "output_type": "stream",
       "stream": "stdout",
       "text": [
        "[M::mem_pestat] # candidate unique pairs for (FF, FR, RF, RR): (6, 13403, 1, 6)\r\n",
        "[M::mem_pestat] skip orientation FF as there are not enough pairs\r\n",
        "[M::mem_pestat] analyzing insert size distribution for orientation FR...\r\n",
        "[M::mem_pestat] (25, 50, 75) percentile: (236, 331, 435)\r\n",
        "[M::mem_pestat] low and high boundaries for computing mean and std.dev: (1, 833)\r\n",
        "[M::mem_pestat] mean and std.dev: (338.19, 152.34)\r\n",
        "[M::mem_pestat] low and high boundaries for proper pairs: (1, 1032)\r\n",
        "[M::mem_pestat] skip orientation RF as there are not enough pairs\r\n",
        "[M::mem_pestat] skip orientation RR as there are not enough pairs\r\n"
       ]
      },
      {
       "output_type": "stream",
       "stream": "stdout",
       "text": [
        "[M::worker2@0] performed mate-SW for 2876 reads\r\n"
       ]
      },
      {
       "output_type": "stream",
       "stream": "stdout",
       "text": [
        "[M::main_mem] read 43070 sequences (10000307 bp)...\r\n"
       ]
      },
      {
       "output_type": "stream",
       "stream": "stdout",
       "text": [
        "[M::mem_pestat] # candidate unique pairs for (FF, FR, RF, RR): (5, 13589, 1, 9)\r\n",
        "[M::mem_pestat] skip orientation FF as there are not enough pairs\r\n",
        "[M::mem_pestat] analyzing insert size distribution for orientation FR...\r\n",
        "[M::mem_pestat] (25, 50, 75) percentile: (236, 331, 438)\r\n",
        "[M::mem_pestat] low and high boundaries for computing mean and std.dev: (1, 842)\r\n",
        "[M::mem_pestat] mean and std.dev: (340.14, 155.41)\r\n",
        "[M::mem_pestat] low and high boundaries for proper pairs: (1, 1044)\r\n",
        "[M::mem_pestat] skip orientation RF as there are not enough pairs\r\n",
        "[M::mem_pestat] skip orientation RR as there are not enough pairs\r\n"
       ]
      },
      {
       "output_type": "stream",
       "stream": "stdout",
       "text": [
        "[M::worker2@0] performed mate-SW for 3225 reads\r\n"
       ]
      },
      {
       "output_type": "stream",
       "stream": "stdout",
       "text": [
        "[M::main_mem] read 42360 sequences (10000390 bp)...\r\n"
       ]
      },
      {
       "output_type": "stream",
       "stream": "stdout",
       "text": [
        "[M::mem_pestat] # candidate unique pairs for (FF, FR, RF, RR): (2, 13490, 0, 7)\r\n",
        "[M::mem_pestat] skip orientation FF as there are not enough pairs\r\n",
        "[M::mem_pestat] analyzing insert size distribution for orientation FR...\r\n",
        "[M::mem_pestat] (25, 50, 75) percentile: (236, 331, 440)\r\n",
        "[M::mem_pestat] low and high boundaries for computing mean and std.dev: (1, 848)\r\n",
        "[M::mem_pestat] mean and std.dev: (341.22, 156.14)\r\n",
        "[M::mem_pestat] low and high boundaries for proper pairs: (1, 1052)\r\n",
        "[M::mem_pestat] skip orientation RF as there are not enough pairs\r\n",
        "[M::mem_pestat] skip orientation RR as there are not enough pairs\r\n"
       ]
      },
      {
       "output_type": "stream",
       "stream": "stdout",
       "text": [
        "[M::worker2@0] performed mate-SW for 2972 reads\r\n"
       ]
      },
      {
       "output_type": "stream",
       "stream": "stdout",
       "text": [
        "[M::main_mem] read 42036 sequences (10000149 bp)...\r\n"
       ]
      },
      {
       "output_type": "stream",
       "stream": "stdout",
       "text": [
        "[M::mem_pestat] # candidate unique pairs for (FF, FR, RF, RR): (6, 13324, 0, 3)\r\n",
        "[M::mem_pestat] skip orientation FF as there are not enough pairs\r\n",
        "[M::mem_pestat] analyzing insert size distribution for orientation FR...\r\n",
        "[M::mem_pestat] (25, 50, 75) percentile: (240, 331, 438)\r\n",
        "[M::mem_pestat] low and high boundaries for computing mean and std.dev: (1, 834)\r\n",
        "[M::mem_pestat] mean and std.dev: (341.54, 155.27)\r\n",
        "[M::mem_pestat] low and high boundaries for proper pairs: (1, 1032)\r\n",
        "[M::mem_pestat] skip orientation RF as there are not enough pairs\r\n",
        "[M::mem_pestat] skip orientation RR as there are not enough pairs\r\n"
       ]
      },
      {
       "output_type": "stream",
       "stream": "stdout",
       "text": [
        "[M::worker2@0] performed mate-SW for 3113 reads\r\n"
       ]
      },
      {
       "output_type": "stream",
       "stream": "stdout",
       "text": [
        "[M::main_mem] read 42752 sequences (10000121 bp)...\r\n"
       ]
      },
      {
       "output_type": "stream",
       "stream": "stdout",
       "text": [
        "[M::mem_pestat] # candidate unique pairs for (FF, FR, RF, RR): (6, 13515, 0, 4)\r\n",
        "[M::mem_pestat] skip orientation FF as there are not enough pairs\r\n",
        "[M::mem_pestat] analyzing insert size distribution for orientation FR...\r\n",
        "[M::mem_pestat] (25, 50, 75) percentile: (238, 330, 433)\r\n",
        "[M::mem_pestat] low and high boundaries for computing mean and std.dev: (1, 823)\r\n",
        "[M::mem_pestat] mean and std.dev: (338.28, 153.18)\r\n",
        "[M::mem_pestat] low and high boundaries for proper pairs: (1, 1018)\r\n",
        "[M::mem_pestat] skip orientation RF as there are not enough pairs\r\n",
        "[M::mem_pestat] skip orientation RR as there are not enough pairs\r\n"
       ]
      },
      {
       "output_type": "stream",
       "stream": "stdout",
       "text": [
        "[M::worker2@0] performed mate-SW for 3154 reads\r\n"
       ]
      },
      {
       "output_type": "stream",
       "stream": "stdout",
       "text": [
        "[M::main_mem] read 42782 sequences (10000560 bp)...\r\n"
       ]
      },
      {
       "output_type": "stream",
       "stream": "stdout",
       "text": [
        "[M::mem_pestat] # candidate unique pairs for (FF, FR, RF, RR): (4, 13488, 1, 3)\r\n",
        "[M::mem_pestat] skip orientation FF as there are not enough pairs\r\n",
        "[M::mem_pestat] analyzing insert size distribution for orientation FR...\r\n",
        "[M::mem_pestat] (25, 50, 75) percentile: (238, 331, 435)\r\n",
        "[M::mem_pestat] low and high boundaries for computing mean and std.dev: (1, 829)\r\n",
        "[M::mem_pestat] mean and std.dev: (338.85, 153.57)\r\n",
        "[M::mem_pestat] low and high boundaries for proper pairs: (1, 1026)\r\n",
        "[M::mem_pestat] skip orientation RF as there are not enough pairs\r\n",
        "[M::mem_pestat] skip orientation RR as there are not enough pairs\r\n"
       ]
      },
      {
       "output_type": "stream",
       "stream": "stdout",
       "text": [
        "[M::worker2@0] performed mate-SW for 3165 reads\r\n"
       ]
      },
      {
       "output_type": "stream",
       "stream": "stdout",
       "text": [
        "[M::main_mem] read 42740 sequences (10000250 bp)...\r\n"
       ]
      },
      {
       "output_type": "stream",
       "stream": "stdout",
       "text": [
        "[M::mem_pestat] # candidate unique pairs for (FF, FR, RF, RR): (4, 13610, 0, 7)\r\n",
        "[M::mem_pestat] skip orientation FF as there are not enough pairs\r\n",
        "[M::mem_pestat] analyzing insert size distribution for orientation FR...\r\n",
        "[M::mem_pestat] (25, 50, 75) percentile: (235, 333, 436)\r\n",
        "[M::mem_pestat] low and high boundaries for computing mean and std.dev: (1, 838)\r\n",
        "[M::mem_pestat] mean and std.dev: (340.02, 155.85)\r\n",
        "[M::mem_pestat] low and high boundaries for proper pairs: (1, 1039)\r\n",
        "[M::mem_pestat] skip orientation RF as there are not enough pairs\r\n",
        "[M::mem_pestat] skip orientation RR as there are not enough pairs\r\n"
       ]
      },
      {
       "output_type": "stream",
       "stream": "stdout",
       "text": [
        "[M::worker2@0] performed mate-SW for 3046 reads\r\n"
       ]
      },
      {
       "output_type": "stream",
       "stream": "stdout",
       "text": [
        "[M::main_mem] read 42976 sequences (10000352 bp)...\r\n"
       ]
      },
      {
       "output_type": "stream",
       "stream": "stdout",
       "text": [
        "[M::mem_pestat] # candidate unique pairs for (FF, FR, RF, RR): (10, 13657, 1, 0)\r\n",
        "[M::mem_pestat] analyzing insert size distribution for orientation FF...\r\n",
        "[M::mem_pestat] (25, 50, 75) percentile: (354, 585, 633)\r\n",
        "[M::mem_pestat] low and high boundaries for computing mean and std.dev: (1, 1191)\r\n",
        "[M::mem_pestat] mean and std.dev: (471.44, 160.46)\r\n",
        "[M::mem_pestat] low and high boundaries for proper pairs: (1, 1470)\r\n",
        "[M::mem_pestat] analyzing insert size distribution for orientation FR...\r\n",
        "[M::mem_pestat] (25, 50, 75) percentile: (236, 330, 434)\r\n",
        "[M::mem_pestat] low and high boundaries for computing mean and std.dev: (1, 830)\r\n",
        "[M::mem_pestat] mean and std.dev: (338.25, 153.72)\r\n",
        "[M::mem_pestat] low and high boundaries for proper pairs: (1, 1028)\r\n",
        "[M::mem_pestat] skip orientation RF as there are not enough pairs\r\n",
        "[M::mem_pestat] skip orientation RR as there are not enough pairs\r\n",
        "[M::mem_pestat] skip orientation FF\r\n"
       ]
      },
      {
       "output_type": "stream",
       "stream": "stdout",
       "text": [
        "[M::worker2@0] performed mate-SW for 2966 reads\r\n"
       ]
      },
      {
       "output_type": "stream",
       "stream": "stdout",
       "text": [
        "[M::main_mem] read 42650 sequences (10000126 bp)...\r\n"
       ]
      },
      {
       "output_type": "stream",
       "stream": "stdout",
       "text": [
        "[M::mem_pestat] # candidate unique pairs for (FF, FR, RF, RR): (6, 13412, 0, 6)\r\n",
        "[M::mem_pestat] skip orientation FF as there are not enough pairs\r\n",
        "[M::mem_pestat] analyzing insert size distribution for orientation FR...\r\n",
        "[M::mem_pestat] (25, 50, 75) percentile: (233, 328, 436)\r\n",
        "[M::mem_pestat] low and high boundaries for computing mean and std.dev: (1, 842)\r\n",
        "[M::mem_pestat] mean and std.dev: (337.55, 154.75)\r\n",
        "[M::mem_pestat] low and high boundaries for proper pairs: (1, 1045)\r\n",
        "[M::mem_pestat] skip orientation RF as there are not enough pairs\r\n",
        "[M::mem_pestat] skip orientation RR as there are not enough pairs\r\n"
       ]
      },
      {
       "output_type": "stream",
       "stream": "stdout",
       "text": [
        "[M::worker2@0] performed mate-SW for 3216 reads\r\n"
       ]
      },
      {
       "output_type": "stream",
       "stream": "stdout",
       "text": [
        "[M::main_mem] read 42552 sequences (10000567 bp)...\r\n"
       ]
      },
      {
       "output_type": "stream",
       "stream": "stdout",
       "text": [
        "[M::mem_pestat] # candidate unique pairs for (FF, FR, RF, RR): (5, 13349, 0, 12)\r\n",
        "[M::mem_pestat] skip orientation FF as there are not enough pairs\r\n",
        "[M::mem_pestat] analyzing insert size distribution for orientation FR...\r\n",
        "[M::mem_pestat] (25, 50, 75) percentile: (237, 331, 433)\r\n",
        "[M::mem_pestat] low and high boundaries for computing mean and std.dev: (1, 825)\r\n",
        "[M::mem_pestat] mean and std.dev: (337.29, 152.64)\r\n",
        "[M::mem_pestat] low and high boundaries for proper pairs: (1, 1021)\r\n",
        "[M::mem_pestat] skip orientation RF as there are not enough pairs\r\n",
        "[M::mem_pestat] analyzing insert size distribution for orientation RR...\r\n",
        "[M::mem_pestat] (25, 50, 75) percentile: (313, 541, 1126)\r\n",
        "[M::mem_pestat] low and high boundaries for computing mean and std.dev: (1, 2752)\r\n",
        "[M::mem_pestat] mean and std.dev: (686.00, 496.63)\r\n",
        "[M::mem_pestat] low and high boundaries for proper pairs: (1, 3565)\r\n",
        "[M::mem_pestat] skip orientation RR\r\n"
       ]
      },
      {
       "output_type": "stream",
       "stream": "stdout",
       "text": [
        "[M::worker2@0] performed mate-SW for 3191 reads\r\n"
       ]
      },
      {
       "output_type": "stream",
       "stream": "stdout",
       "text": [
        "[M::main_mem] read 42692 sequences (10000441 bp)...\r\n"
       ]
      },
      {
       "output_type": "stream",
       "stream": "stdout",
       "text": [
        "[M::mem_pestat] # candidate unique pairs for (FF, FR, RF, RR): (5, 13374, 1, 3)\r\n",
        "[M::mem_pestat] skip orientation FF as there are not enough pairs\r\n",
        "[M::mem_pestat] analyzing insert size distribution for orientation FR...\r\n",
        "[M::mem_pestat] (25, 50, 75) percentile: (235, 328, 433)\r\n",
        "[M::mem_pestat] low and high boundaries for computing mean and std.dev: (1, 829)\r\n",
        "[M::mem_pestat] mean and std.dev: (336.53, 153.57)\r\n",
        "[M::mem_pestat] low and high boundaries for proper pairs: (1, 1027)\r\n",
        "[M::mem_pestat] skip orientation RF as there are not enough pairs\r\n",
        "[M::mem_pestat] skip orientation RR as there are not enough pairs\r\n"
       ]
      },
      {
       "output_type": "stream",
       "stream": "stdout",
       "text": [
        "[M::worker2@0] performed mate-SW for 3183 reads\r\n"
       ]
      },
      {
       "output_type": "stream",
       "stream": "stdout",
       "text": [
        "[M::main_mem] read 42426 sequences (10000158 bp)...\r\n"
       ]
      },
      {
       "output_type": "stream",
       "stream": "stdout",
       "text": [
        "[M::mem_pestat] # candidate unique pairs for (FF, FR, RF, RR): (8, 13517, 0, 6)\r\n",
        "[M::mem_pestat] skip orientation FF as there are not enough pairs\r\n",
        "[M::mem_pestat] analyzing insert size distribution for orientation FR...\r\n",
        "[M::mem_pestat] (25, 50, 75) percentile: (237, 329, 434)\r\n",
        "[M::mem_pestat] low and high boundaries for computing mean and std.dev: (1, 828)\r\n",
        "[M::mem_pestat] mean and std.dev: (339.81, 154.61)\r\n",
        "[M::mem_pestat] low and high boundaries for proper pairs: (1, 1025)\r\n",
        "[M::mem_pestat] skip orientation RF as there are not enough pairs\r\n",
        "[M::mem_pestat] skip orientation RR as there are not enough pairs\r\n"
       ]
      },
      {
       "output_type": "stream",
       "stream": "stdout",
       "text": [
        "[M::worker2@0] performed mate-SW for 2559 reads\r\n"
       ]
      },
      {
       "output_type": "stream",
       "stream": "stdout",
       "text": [
        "[M::main_mem] read 42216 sequences (10000280 bp)...\r\n"
       ]
      },
      {
       "output_type": "stream",
       "stream": "stdout",
       "text": [
        "[M::mem_pestat] # candidate unique pairs for (FF, FR, RF, RR): (15, 13292, 0, 6)\r\n",
        "[M::mem_pestat] analyzing insert size distribution for orientation FF...\r\n",
        "[M::mem_pestat] (25, 50, 75) percentile: (227, 459, 1023)\r\n",
        "[M::mem_pestat] low and high boundaries for computing mean and std.dev: (1, 2615)\r\n",
        "[M::mem_pestat] mean and std.dev: (612.71, 572.47)\r\n",
        "[M::mem_pestat] low and high boundaries for proper pairs: (1, 3411)\r\n",
        "[M::mem_pestat] analyzing insert size distribution for orientation FR...\r\n",
        "[M::mem_pestat] (25, 50, 75) percentile: (237, 329, 433)\r\n",
        "[M::mem_pestat] low and high boundaries for computing mean and std.dev: (1, 825)\r\n",
        "[M::mem_pestat] mean and std.dev: (337.18, 152.55)\r\n",
        "[M::mem_pestat] low and high boundaries for proper pairs: (1, 1021)\r\n",
        "[M::mem_pestat] skip orientation RF as there are not enough pairs\r\n",
        "[M::mem_pestat] skip orientation RR as there are not enough pairs\r\n",
        "[M::mem_pestat] skip orientation FF\r\n"
       ]
      },
      {
       "output_type": "stream",
       "stream": "stdout",
       "text": [
        "[M::worker2@0] performed mate-SW for 2897 reads\r\n"
       ]
      },
      {
       "output_type": "stream",
       "stream": "stdout",
       "text": [
        "[M::main_mem] read 41932 sequences (10000072 bp)...\r\n"
       ]
      },
      {
       "output_type": "stream",
       "stream": "stdout",
       "text": [
        "[M::mem_pestat] # candidate unique pairs for (FF, FR, RF, RR): (4, 13364, 1, 8)\r\n",
        "[M::mem_pestat] skip orientation FF as there are not enough pairs\r\n",
        "[M::mem_pestat] analyzing insert size distribution for orientation FR...\r\n",
        "[M::mem_pestat] (25, 50, 75) percentile: (236, 329, 433)\r\n",
        "[M::mem_pestat] low and high boundaries for computing mean and std.dev: (1, 827)\r\n",
        "[M::mem_pestat] mean and std.dev: (337.67, 151.60)\r\n",
        "[M::mem_pestat] low and high boundaries for proper pairs: (1, 1024)\r\n",
        "[M::mem_pestat] skip orientation RF as there are not enough pairs\r\n",
        "[M::mem_pestat] skip orientation RR as there are not enough pairs\r\n"
       ]
      },
      {
       "output_type": "stream",
       "stream": "stdout",
       "text": [
        "[M::worker2@0] performed mate-SW for 2977 reads\r\n"
       ]
      },
      {
       "output_type": "stream",
       "stream": "stdout",
       "text": [
        "[M::main_mem] read 42432 sequences (10000026 bp)...\r\n"
       ]
      },
      {
       "output_type": "stream",
       "stream": "stdout",
       "text": [
        "[M::mem_pestat] # candidate unique pairs for (FF, FR, RF, RR): (2, 13423, 2, 3)\r\n",
        "[M::mem_pestat] skip orientation FF as there are not enough pairs\r\n",
        "[M::mem_pestat] analyzing insert size distribution for orientation FR...\r\n",
        "[M::mem_pestat] (25, 50, 75) percentile: (238, 331, 433)\r\n",
        "[M::mem_pestat] low and high boundaries for computing mean and std.dev: (1, 823)\r\n",
        "[M::mem_pestat] mean and std.dev: (337.27, 152.06)\r\n",
        "[M::mem_pestat] low and high boundaries for proper pairs: (1, 1018)\r\n",
        "[M::mem_pestat] skip orientation RF as there are not enough pairs\r\n",
        "[M::mem_pestat] skip orientation RR as there are not enough pairs\r\n"
       ]
      },
      {
       "output_type": "stream",
       "stream": "stdout",
       "text": [
        "[M::worker2@0] performed mate-SW for 3026 reads\r\n"
       ]
      },
      {
       "output_type": "stream",
       "stream": "stdout",
       "text": [
        "[M::main_mem] read 42114 sequences (10000417 bp)...\r\n"
       ]
      },
      {
       "output_type": "stream",
       "stream": "stdout",
       "text": [
        "[M::mem_pestat] # candidate unique pairs for (FF, FR, RF, RR): (9, 13351, 0, 5)\r\n",
        "[M::mem_pestat] skip orientation FF as there are not enough pairs\r\n",
        "[M::mem_pestat] analyzing insert size distribution for orientation FR...\r\n",
        "[M::mem_pestat] (25, 50, 75) percentile: (234, 329, 435)\r\n",
        "[M::mem_pestat] low and high boundaries for computing mean and std.dev: (1, 837)\r\n",
        "[M::mem_pestat] mean and std.dev: (338.14, 153.84)\r\n",
        "[M::mem_pestat] low and high boundaries for proper pairs: (1, 1038)\r\n",
        "[M::mem_pestat] skip orientation RF as there are not enough pairs\r\n",
        "[M::mem_pestat] skip orientation RR as there are not enough pairs\r\n"
       ]
      },
      {
       "output_type": "stream",
       "stream": "stdout",
       "text": [
        "[M::worker2@0] performed mate-SW for 3066 reads\r\n"
       ]
      },
      {
       "output_type": "stream",
       "stream": "stdout",
       "text": [
        "[M::main_mem] read 42316 sequences (10000298 bp)...\r\n"
       ]
      },
      {
       "output_type": "stream",
       "stream": "stdout",
       "text": [
        "[M::mem_pestat] # candidate unique pairs for (FF, FR, RF, RR): (5, 13439, 3, 3)\r\n",
        "[M::mem_pestat] skip orientation FF as there are not enough pairs\r\n",
        "[M::mem_pestat] analyzing insert size distribution for orientation FR...\r\n",
        "[M::mem_pestat] (25, 50, 75) percentile: (238, 330, 433)\r\n",
        "[M::mem_pestat] low and high boundaries for computing mean and std.dev: (1, 823)\r\n",
        "[M::mem_pestat] mean and std.dev: (338.54, 153.65)\r\n",
        "[M::mem_pestat] low and high boundaries for proper pairs: (1, 1018)\r\n",
        "[M::mem_pestat] skip orientation RF as there are not enough pairs\r\n",
        "[M::mem_pestat] skip orientation RR as there are not enough pairs\r\n"
       ]
      },
      {
       "output_type": "stream",
       "stream": "stdout",
       "text": [
        "[M::worker2@0] performed mate-SW for 2815 reads\r\n"
       ]
      },
      {
       "output_type": "stream",
       "stream": "stdout",
       "text": [
        "[M::main_mem] read 42242 sequences (10000093 bp)...\r\n"
       ]
      },
      {
       "output_type": "stream",
       "stream": "stdout",
       "text": [
        "[M::mem_pestat] # candidate unique pairs for (FF, FR, RF, RR): (5, 13464, 2, 4)\r\n",
        "[M::mem_pestat] skip orientation FF as there are not enough pairs\r\n",
        "[M::mem_pestat] analyzing insert size distribution for orientation FR...\r\n",
        "[M::mem_pestat] (25, 50, 75) percentile: (235, 329, 432)\r\n",
        "[M::mem_pestat] low and high boundaries for computing mean and std.dev: (1, 826)\r\n",
        "[M::mem_pestat] mean and std.dev: (336.72, 150.97)\r\n",
        "[M::mem_pestat] low and high boundaries for proper pairs: (1, 1023)\r\n",
        "[M::mem_pestat] skip orientation RF as there are not enough pairs\r\n",
        "[M::mem_pestat] skip orientation RR as there are not enough pairs\r\n"
       ]
      },
      {
       "output_type": "stream",
       "stream": "stdout",
       "text": [
        "[M::worker2@0] performed mate-SW for 2972 reads\r\n"
       ]
      },
      {
       "output_type": "stream",
       "stream": "stdout",
       "text": [
        "[M::main_mem] read 42404 sequences (10000137 bp)...\r\n"
       ]
      },
      {
       "output_type": "stream",
       "stream": "stdout",
       "text": [
        "[M::mem_pestat] # candidate unique pairs for (FF, FR, RF, RR): (4, 13562, 0, 9)\r\n"
       ]
      },
      {
       "output_type": "stream",
       "stream": "stdout",
       "text": [
        "[M::mem_pestat] skip orientation FF as there are not enough pairs\r\n",
        "[M::mem_pestat] analyzing insert size distribution for orientation FR...\r\n",
        "[M::mem_pestat] (25, 50, 75) percentile: (233, 327, 431)\r\n",
        "[M::mem_pestat] low and high boundaries for computing mean and std.dev: (1, 827)\r\n",
        "[M::mem_pestat] mean and std.dev: (335.15, 152.05)\r\n",
        "[M::mem_pestat] low and high boundaries for proper pairs: (1, 1025)\r\n",
        "[M::mem_pestat] skip orientation RF as there are not enough pairs\r\n",
        "[M::mem_pestat] skip orientation RR as there are not enough pairs\r\n"
       ]
      },
      {
       "output_type": "stream",
       "stream": "stdout",
       "text": [
        "[M::worker2@0] performed mate-SW for 2682 reads\r\n"
       ]
      },
      {
       "output_type": "stream",
       "stream": "stdout",
       "text": [
        "[M::main_mem] read 41922 sequences (10000343 bp)...\r\n"
       ]
      },
      {
       "output_type": "stream",
       "stream": "stdout",
       "text": [
        "[M::mem_pestat] # candidate unique pairs for (FF, FR, RF, RR): (10, 13327, 0, 6)\r\n",
        "[M::mem_pestat] analyzing insert size distribution for orientation FF...\r\n",
        "[M::mem_pestat] (25, 50, 75) percentile: (293, 343, 438)\r\n",
        "[M::mem_pestat] low and high boundaries for computing mean and std.dev: (3, 728)\r\n",
        "[M::mem_pestat] mean and std.dev: (298.25, 94.97)\r\n",
        "[M::mem_pestat] low and high boundaries for proper pairs: (1, 873)\r\n",
        "[M::mem_pestat] analyzing insert size distribution for orientation FR...\r\n",
        "[M::mem_pestat] (25, 50, 75) percentile: (242, 333, 436)\r\n",
        "[M::mem_pestat] low and high boundaries for computing mean and std.dev: (1, 824)\r\n",
        "[M::mem_pestat] mean and std.dev: (340.00, 151.59)\r\n",
        "[M::mem_pestat] low and high boundaries for proper pairs: (1, 1018)\r\n",
        "[M::mem_pestat] skip orientation RF as there are not enough pairs\r\n",
        "[M::mem_pestat] skip orientation RR as there are not enough pairs\r\n",
        "[M::mem_pestat] skip orientation FF\r\n"
       ]
      },
      {
       "output_type": "stream",
       "stream": "stdout",
       "text": [
        "[M::worker2@0] performed mate-SW for 3033 reads\r\n"
       ]
      },
      {
       "output_type": "stream",
       "stream": "stdout",
       "text": [
        "[M::main_mem] read 41678 sequences (10000389 bp)...\r\n"
       ]
      },
      {
       "output_type": "stream",
       "stream": "stdout",
       "text": [
        "[M::mem_pestat] # candidate unique pairs for (FF, FR, RF, RR): (4, 13307, 0, 2)\r\n",
        "[M::mem_pestat] skip orientation FF as there are not enough pairs\r\n",
        "[M::mem_pestat] analyzing insert size distribution for orientation FR...\r\n",
        "[M::mem_pestat] (25, 50, 75) percentile: (241, 332, 435)\r\n",
        "[M::mem_pestat] low and high boundaries for computing mean and std.dev: (1, 823)\r\n",
        "[M::mem_pestat] mean and std.dev: (341.56, 152.86)\r\n",
        "[M::mem_pestat] low and high boundaries for proper pairs: (1, 1017)\r\n",
        "[M::mem_pestat] skip orientation RF as there are not enough pairs\r\n",
        "[M::mem_pestat] skip orientation RR as there are not enough pairs\r\n"
       ]
      },
      {
       "output_type": "stream",
       "stream": "stdout",
       "text": [
        "[M::worker2@0] performed mate-SW for 2701 reads\r\n"
       ]
      },
      {
       "output_type": "stream",
       "stream": "stdout",
       "text": [
        "[M::main_mem] read 42280 sequences (10000136 bp)...\r\n"
       ]
      },
      {
       "output_type": "stream",
       "stream": "stdout",
       "text": [
        "[M::mem_pestat] # candidate unique pairs for (FF, FR, RF, RR): (7, 13377, 1, 3)\r\n",
        "[M::mem_pestat] skip orientation FF as there are not enough pairs\r\n",
        "[M::mem_pestat] analyzing insert size distribution for orientation FR...\r\n",
        "[M::mem_pestat] (25, 50, 75) percentile: (236, 331, 432)\r\n",
        "[M::mem_pestat] low and high boundaries for computing mean and std.dev: (1, 824)\r\n",
        "[M::mem_pestat] mean and std.dev: (337.79, 151.78)\r\n",
        "[M::mem_pestat] low and high boundaries for proper pairs: (1, 1020)\r\n",
        "[M::mem_pestat] skip orientation RF as there are not enough pairs\r\n",
        "[M::mem_pestat] skip orientation RR as there are not enough pairs\r\n"
       ]
      },
      {
       "output_type": "stream",
       "stream": "stdout",
       "text": [
        "[M::worker2@0] performed mate-SW for 2751 reads\r\n"
       ]
      },
      {
       "output_type": "stream",
       "stream": "stdout",
       "text": [
        "[M::main_mem] read 42654 sequences (10000294 bp)...\r\n"
       ]
      },
      {
       "output_type": "stream",
       "stream": "stdout",
       "text": [
        "[M::mem_pestat] # candidate unique pairs for (FF, FR, RF, RR): (7, 13525, 1, 2)\r\n",
        "[M::mem_pestat] skip orientation FF as there are not enough pairs\r\n",
        "[M::mem_pestat] analyzing insert size distribution for orientation FR...\r\n",
        "[M::mem_pestat] (25, 50, 75) percentile: (238, 329, 432)\r\n",
        "[M::mem_pestat] low and high boundaries for computing mean and std.dev: (1, 820)\r\n",
        "[M::mem_pestat] mean and std.dev: (337.86, 151.14)\r\n",
        "[M::mem_pestat] low and high boundaries for proper pairs: (1, 1014)\r\n",
        "[M::mem_pestat] skip orientation RF as there are not enough pairs\r\n",
        "[M::mem_pestat] skip orientation RR as there are not enough pairs\r\n"
       ]
      },
      {
       "output_type": "stream",
       "stream": "stdout",
       "text": [
        "[M::worker2@0] performed mate-SW for 3097 reads\r\n"
       ]
      },
      {
       "output_type": "stream",
       "stream": "stdout",
       "text": [
        "[M::main_mem] read 22698 sequences (5259778 bp)...\r\n"
       ]
      },
      {
       "output_type": "stream",
       "stream": "stdout",
       "text": [
        "[M::mem_pestat] # candidate unique pairs for (FF, FR, RF, RR): (3, 7163, 0, 6)\r\n",
        "[M::mem_pestat] skip orientation FF as there are not enough pairs\r\n",
        "[M::mem_pestat] analyzing insert size distribution for orientation FR...\r\n",
        "[M::mem_pestat] (25, 50, 75) percentile: (234, 329, 435)\r\n",
        "[M::mem_pestat] low and high boundaries for computing mean and std.dev: (1, 837)\r\n",
        "[M::mem_pestat] mean and std.dev: (337.02, 153.47)\r\n",
        "[M::mem_pestat] low and high boundaries for proper pairs: (1, 1038)\r\n",
        "[M::mem_pestat] skip orientation RF as there are not enough pairs\r\n",
        "[M::mem_pestat] skip orientation RR as there are not enough pairs\r\n"
       ]
      },
      {
       "output_type": "stream",
       "stream": "stdout",
       "text": [
        "[M::worker2@0] performed mate-SW for 1739 reads\r\n"
       ]
      },
      {
       "output_type": "stream",
       "stream": "stdout",
       "text": [
        "[main] Version: 0.7.5a-r405\r\n",
        "[main] CMD: bwa mem Efaecium_DO.fna FK-014-S01_1_trimmed.fastq.gz FK-014-S01_2_trimmed.fastq.gz\r\n",
        "[main] Real time: 413.043 sec; CPU: 412.158 sec\r\n"
       ]
      }
     ],
     "prompt_number": 7
    },
    {
     "cell_type": "markdown",
     "metadata": {},
     "source": [
      "The output of this command has some interesting information about the size of fragments we generated hidden away in there. Look for lines starting with ``[M::mem_pestat]``. We can see the predicted mean and standard deviation of the fragments, in this case the fragments are a mean of 337 +/ 153 s.d.. \n",
      "\n",
      "Now we convert the SAM files (which are text) to BAM files (which are binary, and therefore smaller)."
     ]
    },
    {
     "cell_type": "code",
     "collapsed": false,
     "input": [
      "!samtools view -bS FK-014-S01.sam > FK-014-S01.bam"
     ],
     "language": "python",
     "metadata": {},
     "outputs": [
      {
       "output_type": "stream",
       "stream": "stdout",
       "text": [
        "[samopen] SAM header is present: 4 sequences.\r\n"
       ]
      }
     ],
     "prompt_number": 8
    },
    {
     "cell_type": "markdown",
     "metadata": {},
     "source": [
      "Now we need to sort the alignment file by position, and index them. We need this later on for the variant calling stage."
     ]
    },
    {
     "cell_type": "code",
     "collapsed": false,
     "input": [
      "!samtools sort FK-014-S01.bam FK-014-S01.sorted\n",
      "!samtools index FK-014-S01.sorted.bam"
     ],
     "language": "python",
     "metadata": {},
     "outputs": [
      {
       "output_type": "stream",
       "stream": "stdout",
       "text": [
        "[bam_sort_core] merging from 2 files...\r\n"
       ]
      }
     ],
     "prompt_number": 11
    },
    {
     "cell_type": "markdown",
     "metadata": {},
     "source": [
      "Now we can get some basic statistics about the alignments we have done:"
     ]
    },
    {
     "cell_type": "code",
     "collapsed": false,
     "input": [
      "!samtools flagstat FK-014-S01.sorted.bam"
     ],
     "language": "python",
     "metadata": {},
     "outputs": [
      {
       "output_type": "stream",
       "stream": "stdout",
       "text": [
        "2074513 + 0 in total (QC-passed reads + QC-failed reads)\r\n",
        "0 + 0 duplicates\r\n",
        "1528406 + 0 mapped (73.68%:-nan%)\r\n",
        "2074513 + 0 paired in sequencing\r\n",
        "1038420 + 0 read1\r\n",
        "1036093 + 0 read2\r\n",
        "1468557 + 0 properly paired (70.79%:-nan%)\r\n",
        "1511437 + 0 with itself and mate mapped\r\n",
        "16969 + 0 singletons (0.82%:-nan%)\r\n",
        "23548 + 0 with mate mapped to a different chr\r\n",
        "10765 + 0 with mate mapped to a different chr (mapQ>=5)\r\n"
       ]
      }
     ],
     "prompt_number": 13
    },
    {
     "cell_type": "markdown",
     "metadata": {},
     "source": [
      "This shows us that 73.68% of the reads are mapped to the reference genome. This seems a little bit low (we might expect at least 95% if we chose the correct reference), we will need to figure out why."
     ]
    },
    {
     "cell_type": "code",
     "collapsed": false,
     "input": [],
     "language": "python",
     "metadata": {},
     "outputs": []
    }
   ],
   "metadata": {}
  }
 ]
}